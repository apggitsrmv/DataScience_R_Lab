{
 "cells": [
  {
   "cell_type": "markdown",
   "metadata": {},
   "source": [
    "1. Merge two vector in single vector"
   ]
  },
  {
   "cell_type": "code",
   "execution_count": null,
   "metadata": {},
   "outputs": [],
   "source": [
    "a<-c(\"Berlin\",\"Moscow\",\"Tokyo\",\"Nairobi\",\"Denver\");\n",
    "\n",
    "b<-c(\"Dubai\",\"Rio\",\"Oslo\",\"Helsinki\",\"lisbon\");\n",
    "\n",
    "c<-c(a,b);\n",
    "\n",
    "reverse_chars<- function(string)\n",
    "\n",
    "{\n",
    " \n",
    " string_split = strsplit(string, split = \"\")\n",
    "\n",
    "  rev_order = nchar(string):1\n",
    "\n",
    "  reversed_chars = string_split[[1]][rev_order]\n",
    "\n",
    "  paste(reversed_chars, collapse = \"\")\n",
    "\n",
    "} \n",
    "\n",
    "for (val in c)\n",
    "\n",
    "{\n",
    "\n",
    "  print(reverse_chars(val))\n",
    "\n",
    "}"
   ]
  },
  {
   "cell_type": "markdown",
   "metadata": {},
   "source": [
    "2.Create two data tables having name, age, DoJ, DoR, empcode,salary"
   ]
  },
  {
   "cell_type": "code",
   "execution_count": null,
   "metadata": {},
   "outputs": [],
   "source": [
    "install.packages(data.table)\n",
    "library(data.table)\n",
    "\n",
    "#creating Table one with ten records\n",
    "Table1 <- data.table(\n",
    "  name<-c(\"Roshan\",\"varun\",\"Bagavathi\",\"Keerthi\",\"hari\",\"Mouli\",\"bala\",\"Keerthi\",\"hasan\",\"vijay\"),\n",
    "  age<-c(21,21,22,21,24,25,27,28,26,25),\n",
    "  DOJ<-c(\"2001-20-01\",\"2021-12-21\",\"2021-21-10\",\"2010-15-10\",\"2002-16-01\",\"2010-28-02\",\"2020-28-02\",\"2000-15-10\",\"2000-29-02\",\"2010-24-12\"),\n",
    "  DOR<-c(\"2051-06-09\",\"2060-12-12\",\"2024-24-10\",\"2026-31-02\",\"2027-27-10\",\"2080-29-20\",\"3000-30-03\",\"2090-10-02\",\"2020-29-10\",\"2040-25-10\"),\n",
    "  empcode<-c(1,2,3,4,5,6,7,8,9,10),\n",
    "  salary<-c(1000,2000,10000,4000,10000,1500,12000,1100,1900,2000))\n",
    "\n",
    "print(Table1)\n",
    "\n",
    "#creating Table two with ten records\n",
    "Table2 <- data.table(\n",
    "  name<-c(\"ragavan\",\"shankar\",\"Lokesh\",\"Keerthi\",\"joseph\",\"Pranesh\",\"Mani\",\"hasan\",\"Chandru\",\"aravindh\"),\n",
    "  age<-c(25,16,21,23,24,25,26,27,29,30),\n",
    "  DOJ<-c(\"2001-20-01\",\"202112-12-\",\"2021-12-10\",\"2010-15-10\",\"2002-16-01\",\"2010-02-28\",\"2020-10-20\",\"2000-10-12\",\"2000-02-10\",\"2010-12-10\"),\n",
    "  DOR<-c(\"06-09-2051\",\"12-12-2060\",\"24-10-2024\",\"31-02-2026\",\"27-10-2027\",\"29-20-2080\",\"30-03-3000\",\"10-02-2090\",\"29-10-2020\",\"25-10-2040\"),\n",
    "  empcode<-c(11,12,13,14,15,15,17,18,19,20),\n",
    "  salary<-c(1000,2000,1000,4000,1000,1500,12000,1100,1900,2000))  \n",
    "print(Table2)\n",
    "\n",
    "#filtering duplicate rows\n",
    "Table1<-unique(Table1,by =\"V2\")\n",
    "Table2<-unique(Table2,by =\"V2\")\n",
    "\n",
    "#Print salary above 5000\n",
    "con1 = Table2[salary > 5000]\n",
    "print(con1)\n",
    "\n",
    "# Print those who are receiving salary in between 1000 and 10000\n",
    "con2 = Table2[salary > 1000& salary<10000]\n",
    "print(con2)\n",
    "\n",
    "# Print those employees whose age is greater than 50\n",
    "con3 = Table2[age>50]\n",
    "print(con3)\n",
    "\n",
    "#Print those employees who have joined the company in less than one year\n",
    "Oneyear<-Sys.Date()-365\n",
    "print(Oneyear)\n",
    "\n",
    "con3 = Table1[as.Date(DOJ)<as.Date(\"2020-11-13\")]\n",
    "print(con3)\n",
    "\n",
    "A<-(Sys.Date()>as.Date(\"2020-10-2\"))\n",
    "print(a)\n"
   ]
  },
  {
   "cell_type": "markdown",
   "metadata": {},
   "source": [
    "3. Mean, Median, Mode and Standard Deviation"
   ]
  },
  {
   "cell_type": "code",
   "execution_count": null,
   "metadata": {},
   "outputs": [],
   "source": [
    "x <- c(12,7,3,4.2,18,2,54,-21,8,-5)\n",
    "result.mean<- mean(x)\n",
    "print(result.mean)\n",
    "median.result<- median(x)\n",
    "print(median.result)\n",
    "result <- getmode(x)\n",
    "print(result)\n"
   ]
  },
  {
   "cell_type": "markdown",
   "metadata": {},
   "source": [
    "4. correlation"
   ]
  },
  {
   "cell_type": "code",
   "execution_count": null,
   "metadata": {},
   "outputs": [],
   "source": [
    "x<-c(11, 35, 23, 12, 16, 18, 28, 32, 46, 39)\n",
    "y<-c(46, 35, 33, 14, 18, 39, 43, 11, 10, 23)\n",
    "sum (x*y)\n",
    "n<-sum(x*y)\n",
    "a<-sum(x)\n",
    "b<-sum(y)\n",
    "x1<-sqrt((10*sum(x*x))-a*a)\n",
    "y1<-sqrt((10*sum(y*y))-b*b)\n",
    "print(x1)\n",
    "print(y1)\n",
    "r<-(10*n-a*b)/(x1*y1)\n",
    "print(r)\n"
   ]
  },
  {
   "cell_type": "markdown",
   "metadata": {},
   "source": [
    "\n",
    "5. Linear Regression with mtcars Dataset\n"
   ]
  },
  {
   "cell_type": "code",
   "execution_count": null,
   "metadata": {},
   "outputs": [],
   "source": [
    "input <- mtcars[,c(\"mpg\",\"disp\")]\n",
    "print(head(input))\n",
    "a<-lm(mpg~disp,data=input)\n",
    "print(a)\n",
    "plot(input$disp,input$mpg,col = \"blue\",main = \"Miles Per Gallon & Displacement Regression\",\n",
    "abline(lm(input$mpg~input$disp)),cex = 1.3,pch = 16,xlab = \"Displacement \",ylab = \"Miles Per Gallon\")\n"
   ]
  },
  {
   "cell_type": "markdown",
   "metadata": {},
   "source": [
    "6. Logistic Regression"
   ]
  },
  {
   "cell_type": "code",
   "execution_count": null,
   "metadata": {},
   "outputs": [],
   "source": [
    "input <- mtcars[,c(\"am\",\"cyl\",\"hp\",\"wt\")]\n",
    "print(head(input))\n",
    "input <- mtcars[,c(\"am\",\"cyl\",\"hp\",\"wt\")]\n",
    "am.data = glm(formula = am ~ cyl + hp + wt, data = input, family = binomial)\n",
    "print(summary(am.data))\n"
   ]
  },
  {
   "cell_type": "markdown",
   "metadata": {},
   "source": [
    "\n",
    "7. Multiple Linear Regression\n"
   ]
  },
  {
   "cell_type": "code",
   "execution_count": null,
   "metadata": {},
   "outputs": [],
   "source": [
    "input <- mtcars[,c(\"mpg\",\"disp\",\"hp\",\"wt\")]\n",
    "print(head(input))\n",
    "model <- lm(mpg~disp+hp+wt, data = input)\n",
    "print(model)\n",
    "cat(\"# # # # The Coefficient Values # # # \",\"\\n\")\n",
    "a <- coef(model)[1]\n",
    "print(a)\n",
    "Xdisp<- coef(model)[2]\n",
    "Xhp<- coef(model)[3]\n",
    "Xwt<- coef(model)[4]\n",
    "print(Xdisp)\n",
    "print(Xhp)\n",
    "print(Xwt)\n",
    "x1 = 221\n",
    "x2 = 102\n",
    "x3 = 2.91\n",
    "Y = 37.15+(-0.000937)*x1+(-0.0311)*x2+(-3.8008)*x3\n",
    "layout(matrix(c(1,2,3,4),2,2)) # optional 4 graphs/page\n",
    "plot(model)\n"
   ]
  },
  {
   "cell_type": "markdown",
   "metadata": {},
   "source": [
    "8. Poisson Regression"
   ]
  },
  {
   "cell_type": "code",
   "execution_count": null,
   "metadata": {},
   "outputs": [],
   "source": [
    "input <- warpbreaks\n",
    "print(head(input))\n",
    "output <-glm(formula = breaks ~ wool+tension, data = warpbreaks,\n",
    "             family = poisson)\n",
    "print(output)\n"
   ]
  },
  {
   "cell_type": "markdown",
   "metadata": {},
   "source": []
  },
  {
   "cell_type": "code",
   "execution_count": null,
   "metadata": {},
   "outputs": [],
   "source": [
    "library(\"readxl\")\n",
    "my_data<- read_excel(\"/input.xlsx\")\n",
    "print(my_data)\n"
   ]
  },
  {
   "cell_type": "code",
   "execution_count": null,
   "metadata": {},
   "outputs": [],
   "source": [
    "result.mean<- mean(my_data$Salary,trim = 0.3)\n",
    "print(result.mean)\n"
   ]
  },
  {
   "cell_type": "code",
   "execution_count": null,
   "metadata": {},
   "outputs": [],
   "source": [
    "median.result<- median(my_data$Salary)\n",
    "print(median.result)\n"
   ]
  },
  {
   "cell_type": "code",
   "execution_count": null,
   "metadata": {},
   "outputs": [],
   "source": [
    "getmode<- function(v) {\n",
    "   uniqv<- unique(v)\n",
    "   uniqv[which.max(tabulate(match(v, uniqv)))]\n",
    "}\n",
    "result <- getmode(my_data$Salary)\n",
    "print(result)\n",
    "\n"
   ]
  },
  {
   "cell_type": "code",
   "execution_count": null,
   "metadata": {},
   "outputs": [],
   "source": [
    "library(XML)\n",
    "library(RCurl)\n",
    "library(stringr)\n",
    "library(plyr)\n",
    "# Read the URL.\n",
    "url<- \"http://www.omegahat.net\"\n",
    "# Gather the html links present in the webpage.\n",
    "links <- getHTMLLinks(url)\n",
    "filenames <- links[str_detect(links, \"JCMB_2015\")]\n",
    "# Store the file names as a list.\n",
    "filenames_list<- as.list(filenames)\n",
    "download.file(\"http://www.omegahat.net\",\"webfile\")\n",
    "try(getHTMLLinks(\"http://www.geos.ed.ac.uk/~weather/jcmb_ws/\"))\n",
    "print(links)\n",
    "# Identify only the links which point to the JCMB 2015 files.\n",
    "filenames <- links[str_detect(links, \"JCMB_2015\")]\n",
    "print(filenames)\n",
    "# Store the file names as a list.\n",
    "filenames_list<- as.list(filenames)\n",
    "print(filenames_list)\n",
    "# Create a function to download the files by passing the URL and filename list.\n",
    "downloadcsv<- function (mainurl,filename) {\n",
    "  filedetails<- str_c(mainurl,filename)\n",
    "  download.file(filedetails,filename)\n",
    "}\n",
    "print(downloadcsv())\n"
   ]
  },
  {
   "cell_type": "markdown",
   "metadata": {},
   "source": [
    "10 Charts and Graphs"
   ]
  },
  {
   "cell_type": "markdown",
   "metadata": {},
   "source": [
    "A) Bar Chart"
   ]
  },
  {
   "cell_type": "code",
   "execution_count": null,
   "metadata": {},
   "outputs": [],
   "source": [
    "H <- c(7,12,28,3,41)\n",
    "M <- c(\"Mar\",\"Apr\",\"May\",\"Jun\",\"Jul\")\n",
    "barplot(H,names.arg=M,xlab=\"Month\",ylab=\"Revenue\",col=\"blue\",main=\"Revenue chart\",border=\"red\")\n"
   ]
  },
  {
   "cell_type": "markdown",
   "metadata": {},
   "source": [
    "B) Box Plot"
   ]
  },
  {
   "cell_type": "code",
   "execution_count": null,
   "metadata": {},
   "outputs": [],
   "source": [
    "mtcars\n",
    "input <- mtcars[,c('mpg','cyl')]\n",
    "print(head(input))\n",
    "boxplot(mpg ~ cyl, data = mtcars, xlab = \"Number of Cylinders\",ylab = \"Miles Per Gallon\", main = \"Mileage Data\")\n"
   ]
  },
  {
   "cell_type": "markdown",
   "metadata": {},
   "source": [
    "C) Pie Chart"
   ]
  },
  {
   "cell_type": "code",
   "execution_count": null,
   "metadata": {},
   "outputs": [],
   "source": [
    "x <- c(21, 62, 10, 53,76)\n",
    "labels <-  c(\"London\",\"NewYork\",\"Singapore\",\"Mumbai\",\"Chennai\")\n",
    "piepercent<- round(100*x/sum(x), 1)\n",
    "pie(x, labels = piepercent, main = \"City pie chart\",col = rainbow(length(x)))\n",
    "legend(\"topleft\", c(\"London\",\"NewYork\",\"Singapore\",\"Mumbai\",\"Chennai\"), cex = 0.5,\n",
    "fill = rainbow(length(x)))\n"
   ]
  },
  {
   "cell_type": "markdown",
   "metadata": {},
   "source": [
    "D) Histogram"
   ]
  },
  {
   "cell_type": "code",
   "execution_count": null,
   "metadata": {},
   "outputs": [],
   "source": [
    "v <- c(9,13,21,8,36,22,12,41,31,33,19)\n",
    "hist(v,xlab = \"Weight\",col = \"green\",border = \"red\", xlim = c(0,40), ylim = c(0,5),\n",
    "     breaks = 5)\n"
   ]
  },
  {
   "cell_type": "markdown",
   "metadata": {},
   "source": [
    "E) Line Plot"
   ]
  },
  {
   "cell_type": "code",
   "execution_count": null,
   "metadata": {},
   "outputs": [],
   "source": [
    "v <- c(7,12,28,3,41)\n",
    "t <- c(14,7,6,19,3)\n",
    "plot(v,type = \"o\",col = \"red\", xlab = \"Month\", ylab = \"Rain fall\", \n",
    "     main = \"Rain fall chart\")\n",
    "lines(t, type = \"o\", col = \"blue\")\n"
   ]
  },
  {
   "cell_type": "markdown",
   "metadata": {},
   "source": [
    "11 Distributions"
   ]
  },
  {
   "cell_type": "markdown",
   "metadata": {},
   "source": [
    "a)Binomial Distribution"
   ]
  },
  {
   "cell_type": "code",
   "execution_count": null,
   "metadata": {},
   "outputs": [],
   "source": [
    "dbinom()\n",
    "x <- seq(0,50,by = 1)\n",
    "y <- dbinom(x,50,0.5)\n",
    "plot(x,y)\n",
    "pbinom()\n",
    "x <- pbinom(26,51,0.5)\n",
    "\n",
    "print(x)\n",
    "\n",
    "qbinom()\n",
    "x <-qbinom(0.25,51,1/2)\n",
    "\n",
    "print(x)\n",
    "\n",
    "rbinom()\n",
    "x <-rbinom(8,150,.4)\n",
    "\n",
    "print(x)"
   ]
  },
  {
   "cell_type": "markdown",
   "metadata": {},
   "source": [
    "B) Poisson Distribution"
   ]
  },
  {
   "cell_type": "code",
   "execution_count": null,
   "metadata": {},
   "outputs": [],
   "source": [
    "output <-glm(formula = breaks ~ wool+tension, data = warpbreaks,\n",
    "             family = poisson)\n",
    "print(summary(output))\n"
   ]
  },
  {
   "cell_type": "markdown",
   "metadata": {},
   "source": [
    "c)Continuous Uniform Distribution\n"
   ]
  },
  {
   "cell_type": "code",
   "execution_count": null,
   "metadata": {},
   "outputs": [],
   "source": [
    "runif(15, min=1, max=3) \n",
    "\n",
    "qunif() \n",
    "min <- 0\n",
    "max <- 40\n",
    "qunif(0.2, min = min, max = max)\n",
    "\n",
    " \n",
    "dunif()\n",
    "x <- 5:10\n",
    "dunif(x, min = 1, max = 20)\n",
    " \n",
    "punif()\n",
    "min <- 0 \n",
    "max <- 60\n",
    "punif(15 , min =min , max = max)\n",
    " \n"
   ]
  },
  {
   "cell_type": "markdown",
   "metadata": {},
   "source": [
    "d)Exponential Distribution"
   ]
  },
  {
   "cell_type": "code",
   "execution_count": null,
   "metadata": {},
   "outputs": [],
   "source": []
  },
  {
   "cell_type": "markdown",
   "metadata": {},
   "source": [
    "e)Normal Distribution"
   ]
  },
  {
   "cell_type": "code",
   "execution_count": null,
   "metadata": {},
   "outputs": [],
   "source": []
  },
  {
   "cell_type": "markdown",
   "metadata": {},
   "source": [
    "f)Chi-Squared Distribution"
   ]
  },
  {
   "cell_type": "code",
   "execution_count": null,
   "metadata": {},
   "outputs": [],
   "source": []
  },
  {
   "cell_type": "markdown",
   "metadata": {},
   "source": [
    "15 .Guna’s theory"
   ]
  },
  {
   "cell_type": "code",
   "execution_count": null,
   "metadata": {},
   "outputs": [],
   "source": [
    "guna<-read.csv(\"guna1.csv\")\n",
    " head(guna)\n",
    "barplot(table(guna$gunas),col=\"green\")\n",
    "xyplot(Apptitude ~ Attitude ,data=guna)\n",
    "Library(lattice)\n",
    "xyplot(Apptitude ~ Attitude | gunas,data=guna,layout=c(3,1))\n",
    "Library(ggplot2)\n",
    "qplot(Attitude,Apptitude,data=guna)\n",
    "boxplot(Attitude ~ Apptitude, guna,xlab=\"Attitude\",ylab=\"Apptitude\")\n",
    "Base plot for annotation\n",
    "with(guna,plot(Attitude,Apptitude),main=\"Attitude Vs Apptitude\")\n",
    "with(subset(guna,gunas==\"Rajasic\"),points(Attitude,Apptitude,col=\"Blue\"))\n",
    " with(subset(guna,gunas==\"Sattvic\"),points(Attitude,Apptitude,col=\"Red\"))\n",
    " with(subset(guna,gunas==\"Tamasic\"),points(Attitude,Apptitude,col=\"Green\"))\n",
    "legend(\"bottomright\",pch=1,col=c(\"green\",\"blue\",\"red\"),legend=c(\"Tamasic\",\"Rajasic\",\"Sattvic\"))\n",
    "with(guna,plot(Attitude,Apptitude),main=\"Attitude Vs Apptitude\")\n",
    "model<-lm(Attitude ~ Apptitude,guna)\n",
    "abline(model,lwd=4)\n",
    "abline(model,lwd=2)\n",
    "\n",
    "library(lattice)\n",
    "xyplot(Attitude~Apptitude|Gender,data=guna,layout=c(3,1))\n",
    "xyplot(Attitude ~ Apptitude | gunas, guna,\n",
    "  group = Gender,\n",
    "       grid = TRUE,\n",
    "       scales = list(x = list(log = 10, equispaced.log = FALSE)))\n",
    "xyplot(Attitude ~ Apptitude | gunas, guna1,\n",
    "group = Gender, xlab=\"Attitude\", ylab=\"Apptitude\",\n",
    "pch=c(3,0), col=c(\"blue\", \"red\"), cex=0.5,\n",
    "main=\"Attitude vs Apptitude \",\n",
    "key=list(text=list(c(\"Female\", \"Male\")),\n",
    "points=list(pch=c(3,0), col=c(\"blue\", \"red\")), columns=2))\n",
    "xyplot( Number + Letter + Verbal + Logical+Non.Verbal +analytical ~Attitude , groups = Gender , outer =TRUE , data =guna1 , auto.key = list ( columns =2) )\n",
    "pdf(file=\"myplot1.pdf\")\n",
    "with(guna1,plot(Attitude,Apptitude))\n",
    "title(main=\"Attitude Vs Apptitude\")\n",
    "dev.off()\n",
    "set.seed(1234)\n",
    "par(mar = c(0, 0, 0, 0))\n",
    "x <- rnorm(12, mean = rep(1:3, each = 4), sd = 0.2)\n",
    "y <- rnorm(12, mean = rep(c(1, 2, 1), each = 4), sd = 0.2)\n",
    "plot(x, y, col = \"blue\", pch = 19, cex = 2)\n",
    "text(x + 0.05, y + 0.05, labels = as.character(1:12))\n",
    "dataFrame<- data.frame(x = x, y = y)\n",
    "dist(dataFrame)\n",
    "dataFrame<- data.frame(x = x, y = y)\n",
    "distxy<- dist(dataFrame)\n",
    "hClustering<- hclust(distxy)\n",
    "plot(hClustering)\n"
   ]
  },
  {
   "cell_type": "markdown",
   "metadata": {},
   "source": [
    "16.Analysis of variance (ANOVA)"
   ]
  },
  {
   "cell_type": "code",
   "execution_count": null,
   "metadata": {},
   "outputs": [],
   "source": [
    "input <- mtcars[,c(\"am\",\"mpg\",\"hp\")]\n",
    "print(head(input))\n",
    "input <- mtcars\n",
    "result <- aov(mpg~hp*am,data = input)\n",
    "print(summary(result))\n"
   ]
  },
  {
   "cell_type": "code",
   "execution_count": null,
   "metadata": {},
   "outputs": [],
   "source": [
    "input <- mtcars\n",
    "result <- aov(mpg~hp+am,data = input)\n",
    "print(summary(result))\n"
   ]
  },
  {
   "cell_type": "code",
   "execution_count": null,
   "metadata": {},
   "outputs": [],
   "source": [
    "input <- mtcars\n",
    "result1 <- aov(mpg~hp*am,data = input)\n",
    "result2 <- aov(mpg~hp+am,data = input)\n",
    "print(anova(result1,result2))\n"
   ]
  },
  {
   "cell_type": "code",
   "execution_count": null,
   "metadata": {},
   "outputs": [],
   "source": [
    "print(input)\n",
    "result1 <- aov(mpg~hp*cyl,data = input)\n",
    "result2 <- aov(mpg~hp+cyl,data = input)\n",
    "print(anova(result1,result2))\n"
   ]
  },
  {
   "cell_type": "code",
   "execution_count": null,
   "metadata": {},
   "outputs": [],
   "source": [
    "print(anova(result1,result2))"
   ]
  },
  {
   "cell_type": "markdown",
   "metadata": {},
   "source": [
    "17.Wilcox on signed-rank test"
   ]
  },
  {
   "cell_type": "code",
   "execution_count": null,
   "metadata": {},
   "outputs": [],
   "source": [
    "set.seed(1234)\n",
    "myData = data.frame(\n",
    "name = paste0(rep(\"R_\", 10), 1:10),\n",
    "weight = round(rnorm(10, 30, 2), 1)\n",
    ")\n",
    "wilcox.test(myData$weight, mu = 25,\n",
    "alternative = \"less\")\n",
    "print(result)\n"
   ]
  },
  {
   "cell_type": "markdown",
   "metadata": {},
   "source": [
    "18.Time Series Analysis"
   ]
  },
  {
   "cell_type": "code",
   "execution_count": null,
   "metadata": {},
   "outputs": [],
   "source": []
  },
  {
   "cell_type": "markdown",
   "metadata": {},
   "source": [
    "19.Decision Trees on any dataset"
   ]
  },
  {
   "cell_type": "code",
   "execution_count": null,
   "metadata": {},
   "outputs": [],
   "source": [
    "install.packages(\"party\")\n",
    "library(party)\n",
    "print(head(readingSkills))\n",
    "library(party)\n",
    "print(head(readingSkills))\n",
    "input.dat <- readingSkills[c(1:105),]\n",
    "output.tree<- ctree(\n",
    "nativeSpeaker ~ age + shoeSize + score, \n",
    "  data = input.dat)\n",
    "plot(output.tree)\n"
   ]
  },
  {
   "cell_type": "markdown",
   "metadata": {},
   "source": [
    "20.Random Forest using Titatnic dataset\n",
    "\n"
   ]
  },
  {
   "cell_type": "code",
   "execution_count": null,
   "metadata": {},
   "outputs": [],
   "source": [
    "install.packages(\"randomForest\")\n",
    "install.packages(\"titanic\")\n",
    "library(titanic)\n",
    "print(head(Titanic))\n",
    "library(randomForest)\n",
    "output.forest<- randomForest(Class ~Sex, data = Titanic)\n",
    "print(output.forest) \n",
    "print(importance(output.forest,type = 2))\n"
   ]
  },
  {
   "cell_type": "markdown",
   "metadata": {},
   "source": [
    "21 Survival analysis"
   ]
  },
  {
   "cell_type": "code",
   "execution_count": null,
   "metadata": {},
   "outputs": [],
   "source": [
    "install.packages(\"survival\")\n",
    "library(\"survival\")\n",
    "print(head(pbc))\n",
    "library(\"survival\")\n",
    "survfit(Surv(pbc$time,pbc$status == 2)~1)\n",
    "plot(survfit(Surv(pbc$time,pbc$status == 2)~1))\n"
   ]
  },
  {
   "cell_type": "markdown",
   "metadata": {},
   "source": []
  },
  {
   "cell_type": "code",
   "execution_count": null,
   "metadata": {},
   "outputs": [],
   "source": []
  }
 ],
 "metadata": {
  "language_info": {
   "name": "python"
  }
 },
 "nbformat": 4,
 "nbformat_minor": 2
}
