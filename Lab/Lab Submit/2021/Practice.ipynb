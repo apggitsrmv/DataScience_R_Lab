{
 "cells": [
  {
   "cell_type": "markdown",
   "metadata": {},
   "source": [
    "1. Merge two vector in single vector"
   ]
  },
  {
   "cell_type": "code",
   "execution_count": 1,
   "metadata": {
    "vscode": {
     "languageId": "r"
    }
   },
   "outputs": [
    {
     "name": "stdout",
     "output_type": "stream",
     "text": [
      "[1] \"nilreB\"\n",
      "[1] \"wocsoM\"\n",
      "[1] \"oykoT\"\n",
      "[1] \"iboriaN\"\n",
      "[1] \"revneD\"\n",
      "[1] \"iabuD\"\n",
      "[1] \"oiR\"\n",
      "[1] \"olsO\"\n",
      "[1] \"iknisleH\"\n",
      "[1] \"nobsil\"\n"
     ]
    }
   ],
   "source": [
    "a<-c(\"Berlin\",\"Moscow\",\"Tokyo\",\"Nairobi\",\"Denver\");\n",
    "\n",
    "b<-c(\"Dubai\",\"Rio\",\"Oslo\",\"Helsinki\",\"lisbon\");\n",
    "\n",
    "c<-c(a,b);\n",
    "\n",
    "reverse_chars<- function(string)\n",
    "\n",
    "{\n",
    " \n",
    " string_split = strsplit(string, split = \"\")\n",
    "\n",
    "  rev_order = nchar(string):1\n",
    "\n",
    "  reversed_chars = string_split[[1]][rev_order]\n",
    "\n",
    "  paste(reversed_chars, collapse = \"\")\n",
    "\n",
    "} \n",
    "\n",
    "for (val in c)\n",
    "\n",
    "{\n",
    "\n",
    "  print(reverse_chars(val))\n",
    "\n",
    "}"
   ]
  },
  {
   "cell_type": "markdown",
   "metadata": {},
   "source": [
    "2.Create two data tables having name, age, DoJ, DoR, empcode,salary"
   ]
  },
  {
   "cell_type": "code",
   "execution_count": 2,
   "metadata": {
    "vscode": {
     "languageId": "r"
    }
   },
   "outputs": [
    {
     "ename": "ERROR",
     "evalue": "Error in eval(expr, envir, enclos): object 'data.table' not found\n",
     "output_type": "error",
     "traceback": [
      "Error in eval(expr, envir, enclos): object 'data.table' not found\nTraceback:\n",
      "1. install.packages(data.table)"
     ]
    }
   ],
   "source": [
    "install.packages(data.table)\n",
    "library(data.table)"
   ]
  },
  {
   "cell_type": "code",
   "execution_count": 3,
   "metadata": {
    "vscode": {
     "languageId": "r"
    }
   },
   "outputs": [
    {
     "ename": "ERROR",
     "evalue": "Error in data.table(name <- c(\"Roshan\", \"varun\", \"Bagavathi\", \"Keerthi\", : could not find function \"data.table\"\n",
     "output_type": "error",
     "traceback": [
      "Error in data.table(name <- c(\"Roshan\", \"varun\", \"Bagavathi\", \"Keerthi\", : could not find function \"data.table\"\nTraceback:\n"
     ]
    }
   ],
   "source": [
    "\n",
    "#creating Table one with ten records\n",
    "Table1 <- data.table(\n",
    "  name<-c(\"Roshan\",\"varun\",\"Bagavathi\",\"Keerthi\",\"hari\",\"Mouli\",\"bala\",\"Keerthi\",\"hasan\",\"vijay\"),\n",
    "  age<-c(21,21,22,21,24,25,27,28,26,25),\n",
    "  DOJ<-c(\"2001-20-01\",\"2021-12-21\",\"2021-21-10\",\"2010-15-10\",\"2002-16-01\",\"2010-28-02\",\"2020-28-02\",\"2000-15-10\",\"2000-29-02\",\"2010-24-12\"),\n",
    "  DOR<-c(\"2051-06-09\",\"2060-12-12\",\"2024-24-10\",\"2026-31-02\",\"2027-27-10\",\"2080-29-20\",\"3000-30-03\",\"2090-10-02\",\"2020-29-10\",\"2040-25-10\"),\n",
    "  empcode<-c(1,2,3,4,5,6,7,8,9,10),\n",
    "  salary<-c(1000,2000,10000,4000,10000,1500,12000,1100,1900,2000))\n",
    "\n",
    "print(Table1)\n",
    "\n",
    "#creating Table two with ten records\n",
    "Table2 <- data.table(\n",
    "  name<-c(\"ragavan\",\"shankar\",\"Lokesh\",\"Keerthi\",\"joseph\",\"Pranesh\",\"Mani\",\"hasan\",\"Chandru\",\"aravindh\"),\n",
    "  age<-c(25,16,21,23,24,25,26,27,29,30),\n",
    "  DOJ<-c(\"2001-20-01\",\"202112-12-\",\"2021-12-10\",\"2010-15-10\",\"2002-16-01\",\"2010-02-28\",\"2020-10-20\",\"2000-10-12\",\"2000-02-10\",\"2010-12-10\"),\n",
    "  DOR<-c(\"06-09-2051\",\"12-12-2060\",\"24-10-2024\",\"31-02-2026\",\"27-10-2027\",\"29-20-2080\",\"30-03-3000\",\"10-02-2090\",\"29-10-2020\",\"25-10-2040\"),\n",
    "  empcode<-c(11,12,13,14,15,15,17,18,19,20),\n",
    "  salary<-c(1000,2000,1000,4000,1000,1500,12000,1100,1900,2000))  \n",
    "print(Table2)\n",
    "\n",
    "#filtering duplicate rows\n",
    "Table1<-unique(Table1,by =\"V2\")\n",
    "Table2<-unique(Table2,by =\"V2\")\n",
    "\n",
    "#Print salary above 5000\n",
    "con1 = Table2[salary > 5000]\n",
    "print(con1)\n",
    "\n",
    "# Print those who are receiving salary in between 1000 and 10000\n",
    "con2 = Table2[salary > 1000& salary<10000]\n",
    "print(con2)\n",
    "\n",
    "# Print those employees whose age is greater than 50\n",
    "con3 = Table2[age>50]\n",
    "print(con3)\n",
    "\n",
    "#Print those employees who have joined the company in less than one year\n",
    "Oneyear<-Sys.Date()-365\n",
    "print(Oneyear)\n",
    "\n",
    "con3 = Table1[as.Date(DOJ)<as.Date(\"2020-11-13\")]\n",
    "print(con3)\n",
    "\n",
    "A<-(Sys.Date()>as.Date(\"2020-10-2\"))\n",
    "print(a)\n"
   ]
  },
  {
   "cell_type": "markdown",
   "metadata": {},
   "source": [
    "3. Mean, Median, Mode and Standard Deviation"
   ]
  },
  {
   "cell_type": "code",
   "execution_count": 4,
   "metadata": {
    "vscode": {
     "languageId": "r"
    }
   },
   "outputs": [
    {
     "name": "stdout",
     "output_type": "stream",
     "text": [
      "[1] 8.22\n",
      "[1] 5.6\n"
     ]
    },
    {
     "ename": "ERROR",
     "evalue": "Error in getmode(x): could not find function \"getmode\"\n",
     "output_type": "error",
     "traceback": [
      "Error in getmode(x): could not find function \"getmode\"\nTraceback:\n"
     ]
    }
   ],
   "source": [
    "x <- c(12,7,3,4.2,18,2,54,-21,8,-5)\n",
    "result.mean<- mean(x)\n",
    "print(result.mean)\n",
    "median.result<- median(x)\n",
    "print(median.result)\n",
    "result <- getmode(x)\n",
    "print(result)\n"
   ]
  },
  {
   "cell_type": "markdown",
   "metadata": {},
   "source": [
    "4. correlation"
   ]
  },
  {
   "cell_type": "code",
   "execution_count": 5,
   "metadata": {
    "vscode": {
     "languageId": "r"
    }
   },
   "outputs": [
    {
     "data": {
      "text/html": [
       "6561"
      ],
      "text/latex": [
       "6561"
      ],
      "text/markdown": [
       "6561"
      ],
      "text/plain": [
       "[1] 6561"
      ]
     },
     "metadata": {},
     "output_type": "display_data"
    },
    {
     "name": "stdout",
     "output_type": "stream",
     "text": [
      "[1] 113.3137\n",
      "[1] 129.2904\n",
      "[1] -0.3487966\n"
     ]
    }
   ],
   "source": [
    "x<-c(11, 35, 23, 12, 16, 18, 28, 32, 46, 39)\n",
    "y<-c(46, 35, 33, 14, 18, 39, 43, 11, 10, 23)\n",
    "sum (x*y)\n",
    "n<-sum(x*y)\n",
    "a<-sum(x)\n",
    "b<-sum(y)\n",
    "x1<-sqrt((10*sum(x*x))-a*a)\n",
    "y1<-sqrt((10*sum(y*y))-b*b)\n",
    "print(x1)\n",
    "print(y1)\n",
    "r<-(10*n-a*b)/(x1*y1)\n",
    "print(r)\n"
   ]
  },
  {
   "cell_type": "markdown",
   "metadata": {},
   "source": [
    "\n",
    "5. Linear Regression with mtcars Dataset\n"
   ]
  },
  {
   "cell_type": "code",
   "execution_count": 6,
   "metadata": {
    "vscode": {
     "languageId": "r"
    }
   },
   "outputs": [
    {
     "name": "stdout",
     "output_type": "stream",
     "text": [
      "                   mpg disp\n",
      "Mazda RX4         21.0  160\n",
      "Mazda RX4 Wag     21.0  160\n",
      "Datsun 710        22.8  108\n",
      "Hornet 4 Drive    21.4  258\n",
      "Hornet Sportabout 18.7  360\n",
      "Valiant           18.1  225\n",
      "\n",
      "Call:\n",
      "lm(formula = mpg ~ disp, data = input)\n",
      "\n",
      "Coefficients:\n",
      "(Intercept)         disp  \n",
      "   29.59985     -0.04122  \n",
      "\n"
     ]
    },
    {
     "data": {
      "image/png": "[encoded data removed]",
      "text/plain": [
       "Plot with title \"Miles Per Gallon & Displacement Regression\""
      ]
     },
     "metadata": {
      "image/png": {
       "height": 420,
       "width": 420
      }
     },
     "output_type": "display_data"
    }
   ],
   "source": [
    "input <- mtcars[,c(\"mpg\",\"disp\")]\n",
    "print(head(input))\n",
    "a<-lm(mpg~disp,data=input)\n",
    "print(a)\n",
    "plot(input$disp,input$mpg,col = \"blue\",main = \"Miles Per Gallon & Displacement Regression\",\n",
    "abline(lm(input$mpg~input$disp)),cex = 1.3,pch = 16,xlab = \"Displacement \",ylab = \"Miles Per Gallon\")\n"
   ]
  },
  {
   "cell_type": "markdown",
   "metadata": {},
   "source": [
    "6. Logistic Regression"
   ]
  },
  {
   "cell_type": "code",
   "execution_count": 7,
   "metadata": {
    "vscode": {
     "languageId": "r"
    }
   },
   "outputs": [
    {
     "name": "stdout",
     "output_type": "stream",
     "text": [
      "                  am cyl  hp    wt\n",
      "Mazda RX4          1   6 110 2.620\n",
      "Mazda RX4 Wag      1   6 110 2.875\n",
      "Datsun 710         1   4  93 2.320\n",
      "Hornet 4 Drive     0   6 110 3.215\n",
      "Hornet Sportabout  0   8 175 3.440\n",
      "Valiant            0   6 105 3.460\n",
      "\n",
      "Call:\n",
      "glm(formula = am ~ cyl + hp + wt, family = binomial, data = input)\n",
      "\n",
      "Coefficients:\n",
      "            Estimate Std. Error z value Pr(>|z|)  \n",
      "(Intercept) 19.70288    8.11637   2.428   0.0152 *\n",
      "cyl          0.48760    1.07162   0.455   0.6491  \n",
      "hp           0.03259    0.01886   1.728   0.0840 .\n",
      "wt          -9.14947    4.15332  -2.203   0.0276 *\n",
      "---\n",
      "Signif. codes:  0 '***' 0.001 '**' 0.01 '*' 0.05 '.' 0.1 ' ' 1\n",
      "\n",
      "(Dispersion parameter for binomial family taken to be 1)\n",
      "\n",
      "    Null deviance: 43.2297  on 31  degrees of freedom\n",
      "Residual deviance:  9.8415  on 28  degrees of freedom\n",
      "AIC: 17.841\n",
      "\n",
      "Number of Fisher Scoring iterations: 8\n",
      "\n"
     ]
    }
   ],
   "source": [
    "input <- mtcars[,c(\"am\",\"cyl\",\"hp\",\"wt\")]\n",
    "print(head(input))\n",
    "input <- mtcars[,c(\"am\",\"cyl\",\"hp\",\"wt\")]\n",
    "am.data = glm(formula = am ~ cyl + hp + wt, data = input, family = binomial)\n",
    "print(summary(am.data))\n"
   ]
  },
  {
   "cell_type": "markdown",
   "metadata": {},
   "source": [
    "\n",
    "7. Multiple Linear Regression\n"
   ]
  },
  {
   "cell_type": "code",
   "execution_count": 8,
   "metadata": {
    "vscode": {
     "languageId": "r"
    }
   },
   "outputs": [
    {
     "name": "stdout",
     "output_type": "stream",
     "text": [
      "                   mpg disp  hp    wt\n",
      "Mazda RX4         21.0  160 110 2.620\n",
      "Mazda RX4 Wag     21.0  160 110 2.875\n",
      "Datsun 710        22.8  108  93 2.320\n",
      "Hornet 4 Drive    21.4  258 110 3.215\n",
      "Hornet Sportabout 18.7  360 175 3.440\n",
      "Valiant           18.1  225 105 3.460\n",
      "\n",
      "Call:\n",
      "lm(formula = mpg ~ disp + hp + wt, data = input)\n",
      "\n",
      "Coefficients:\n",
      "(Intercept)         disp           hp           wt  \n",
      "  37.105505    -0.000937    -0.031157    -3.800891  \n",
      "\n",
      "# # # # The Coefficient Values # # #  \n",
      "(Intercept) \n",
      "   37.10551 \n",
      "         disp \n",
      "-0.0009370091 \n",
      "         hp \n",
      "-0.03115655 \n",
      "       wt \n",
      "-3.800891 \n"
     ]
    },
    {
     "data": {
      "image/png": "[encoded data removed]",
      "text/plain": [
       "Plot with title \"\""
      ]
     },
     "metadata": {
      "image/png": {
       "height": 420,
       "width": 420
      }
     },
     "output_type": "display_data"
    }
   ],
   "source": [
    "input <- mtcars[,c(\"mpg\",\"disp\",\"hp\",\"wt\")]\n",
    "print(head(input))\n",
    "model <- lm(mpg~disp+hp+wt, data = input)\n",
    "print(model)\n",
    "cat(\"# # # # The Coefficient Values # # # \",\"\\n\")\n",
    "a <- coef(model)[1]\n",
    "print(a)\n",
    "Xdisp<- coef(model)[2]\n",
    "Xhp<- coef(model)[3]\n",
    "Xwt<- coef(model)[4]\n",
    "print(Xdisp)\n",
    "print(Xhp)\n",
    "print(Xwt)\n",
    "x1 = 221\n",
    "x2 = 102\n",
    "x3 = 2.91\n",
    "Y = 37.15+(-0.000937)*x1+(-0.0311)*x2+(-3.8008)*x3\n",
    "layout(matrix(c(1,2,3,4),2,2)) # optional 4 graphs/page\n",
    "plot(model)\n"
   ]
  },
  {
   "cell_type": "markdown",
   "metadata": {},
   "source": [
    "8. Poisson Regression"
   ]
  },
  {
   "cell_type": "code",
   "execution_count": 9,
   "metadata": {
    "vscode": {
     "languageId": "r"
    }
   },
   "outputs": [
    {
     "name": "stdout",
     "output_type": "stream",
     "text": [
      "  breaks wool tension\n",
      "1     26    A       L\n",
      "2     30    A       L\n",
      "3     54    A       L\n",
      "4     25    A       L\n",
      "5     70    A       L\n",
      "6     52    A       L\n",
      "\n",
      "Call:  glm(formula = breaks ~ wool + tension, family = poisson, data = warpbreaks)\n",
      "\n",
      "Coefficients:\n",
      "(Intercept)        woolB     tensionM     tensionH  \n",
      "     3.6920      -0.2060      -0.3213      -0.5185  \n",
      "\n",
      "Degrees of Freedom: 53 Total (i.e. Null);  50 Residual\n",
      "Null Deviance:\t    297.4 \n",
      "Residual Deviance: 210.4 \tAIC: 493.1\n"
     ]
    }
   ],
   "source": [
    "input <- warpbreaks\n",
    "print(head(input))\n",
    "output <-glm(formula = breaks ~ wool+tension, data = warpbreaks,\n",
    "             family = poisson)\n",
    "print(output)\n"
   ]
  },
  {
   "cell_type": "markdown",
   "metadata": {},
   "source": []
  },
  {
   "cell_type": "code",
   "execution_count": 10,
   "metadata": {
    "vscode": {
     "languageId": "r"
    }
   },
   "outputs": [
    {
     "ename": "ERROR",
     "evalue": "Error in library(\"readxl\"): there is no package called 'readxl'\n",
     "output_type": "error",
     "traceback": [
      "Error in library(\"readxl\"): there is no package called 'readxl'\nTraceback:\n",
      "1. library(\"readxl\")"
     ]
    }
   ],
   "source": [
    "library(\"readxl\")\n",
    "my_data<- read_excel(\"/input.xlsx\")\n",
    "print(my_data)\n"
   ]
  },
  {
   "cell_type": "code",
   "execution_count": null,
   "metadata": {
    "vscode": {
     "languageId": "r"
    }
   },
   "outputs": [],
   "source": [
    "result.mean<- mean(my_data$Salary,trim = 0.3)\n",
    "print(result.mean)\n"
   ]
  },
  {
   "cell_type": "code",
   "execution_count": null,
   "metadata": {
    "vscode": {
     "languageId": "r"
    }
   },
   "outputs": [],
   "source": [
    "median.result<- median(my_data$Salary)\n",
    "print(median.result)\n"
   ]
  },
  {
   "cell_type": "code",
   "execution_count": null,
   "metadata": {
    "vscode": {
     "languageId": "r"
    }
   },
   "outputs": [],
   "source": [
    "getmode<- function(v) {\n",
    "   uniqv<- unique(v)\n",
    "   uniqv[which.max(tabulate(match(v, uniqv)))]\n",
    "}\n",
    "result <- getmode(my_data$Salary)\n",
    "print(result)\n",
    "\n"
   ]
  },
  {
   "cell_type": "code",
   "execution_count": 11,
   "metadata": {
    "vscode": {
     "languageId": "r"
    }
   },
   "outputs": [
    {
     "ename": "ERROR",
     "evalue": "Error in library(RCurl): there is no package called 'RCurl'\n",
     "output_type": "error",
     "traceback": [
      "Error in library(RCurl): there is no package called 'RCurl'\nTraceback:\n",
      "1. library(RCurl)"
     ]
    }
   ],
   "source": [
    "library(XML)\n",
    "library(RCurl)\n",
    "library(stringr)\n",
    "library(plyr)\n",
    "# Read the URL.\n",
    "url<- \"http://www.omegahat.net\"\n",
    "# Gather the html links present in the webpage.\n",
    "links <- getHTMLLinks(url)\n",
    "filenames <- links[str_detect(links, \"JCMB_2015\")]\n",
    "# Store the file names as a list.\n",
    "filenames_list<- as.list(filenames)\n",
    "download.file(\"http://www.omegahat.net\",\"webfile\")\n",
    "try(getHTMLLinks(\"http://www.geos.ed.ac.uk/~weather/jcmb_ws/\"))\n",
    "print(links)\n",
    "# Identify only the links which point to the JCMB 2015 files.\n",
    "filenames <- links[str_detect(links, \"JCMB_2015\")]\n",
    "print(filenames)\n",
    "# Store the file names as a list.\n",
    "filenames_list<- as.list(filenames)\n",
    "print(filenames_list)\n",
    "# Create a function to download the files by passing the URL and filename list.\n",
    "downloadcsv<- function (mainurl,filename) {\n",
    "  filedetails<- str_c(mainurl,filename)\n",
    "  download.file(filedetails,filename)\n",
    "}\n",
    "print(downloadcsv())\n"
   ]
  },
  {
   "cell_type": "markdown",
   "metadata": {},
   "source": [
    "10 Charts and Graphs"
   ]
  },
  {
   "cell_type": "markdown",
   "metadata": {},
   "source": [
    "A) Bar Chart"
   ]
  },
  {
   "cell_type": "code",
   "execution_count": 12,
   "metadata": {
    "vscode": {
     "languageId": "r"
    }
   },
   "outputs": [
    {
     "data": {
      "image/png": "[encoded data removed]",
      "text/plain": [
       "Plot with title \"Revenue chart\""
      ]
     },
     "metadata": {
      "image/png": {
       "height": 420,
       "width": 420
      }
     },
     "output_type": "display_data"
    }
   ],
   "source": [
    "H <- c(7,12,28,3,41)\n",
    "M <- c(\"Mar\",\"Apr\",\"May\",\"Jun\",\"Jul\")\n",
    "barplot(H,names.arg=M,xlab=\"Month\",ylab=\"Revenue\",col=\"blue\",main=\"Revenue chart\",border=\"red\")\n"
   ]
  },
  {
   "cell_type": "markdown",
   "metadata": {},
   "source": [
    "B) Box Plot"
   ]
  },
  {
   "cell_type": "code",
   "execution_count": 13,
   "metadata": {
    "vscode": {
     "languageId": "r"
    }
   },
   "outputs": [
    {
     "data": {
      "text/html": [
       "<table class=\"dataframe\">\n",
       "<caption>A data.frame: 32 × 11</caption>\n",
       "<thead>\n",
       "\t<tr><th></th><th scope=col>mpg</th><th scope=col>cyl</th><th scope=col>disp</th><th scope=col>hp</th><th scope=col>drat</th><th scope=col>wt</th><th scope=col>qsec</th><th scope=col>vs</th><th scope=col>am</th><th scope=col>gear</th><th scope=col>carb</th></tr>\n",
       "\t<tr><th></th><th scope=col>&lt;dbl&gt;</th><th scope=col>&lt;dbl&gt;</th><th scope=col>&lt;dbl&gt;</th><th scope=col>&lt;dbl&gt;</th><th scope=col>&lt;dbl&gt;</th><th scope=col>&lt;dbl&gt;</th><th scope=col>&lt;dbl&gt;</th><th scope=col>&lt;dbl&gt;</th><th scope=col>&lt;dbl&gt;</th><th scope=col>&lt;dbl&gt;</th><th scope=col>&lt;dbl&gt;</th></tr>\n",
       "</thead>\n",
       "<tbody>\n",
       "\t<tr><th scope=row>Mazda RX4</th><td>21.0</td><td>6</td><td>160.0</td><td>110</td><td>3.90</td><td>2.620</td><td>16.46</td><td>0</td><td>1</td><td>4</td><td>4</td></tr>\n",
       "\t<tr><th scope=row>Mazda RX4 Wag</th><td>21.0</td><td>6</td><td>160.0</td><td>110</td><td>3.90</td><td>2.875</td><td>17.02</td><td>0</td><td>1</td><td>4</td><td>4</td></tr>\n",
       "\t<tr><th scope=row>Datsun 710</th><td>22.8</td><td>4</td><td>108.0</td><td> 93</td><td>3.85</td><td>2.320</td><td>18.61</td><td>1</td><td>1</td><td>4</td><td>1</td></tr>\n",
       "\t<tr><th scope=row>Hornet 4 Drive</th><td>21.4</td><td>6</td><td>258.0</td><td>110</td><td>3.08</td><td>3.215</td><td>19.44</td><td>1</td><td>0</td><td>3</td><td>1</td></tr>\n",
       "\t<tr><th scope=row>Hornet Sportabout</th><td>18.7</td><td>8</td><td>360.0</td><td>175</td><td>3.15</td><td>3.440</td><td>17.02</td><td>0</td><td>0</td><td>3</td><td>2</td></tr>\n",
       "\t<tr><th scope=row>Valiant</th><td>18.1</td><td>6</td><td>225.0</td><td>105</td><td>2.76</td><td>3.460</td><td>20.22</td><td>1</td><td>0</td><td>3</td><td>1</td></tr>\n",
       "\t<tr><th scope=row>Duster 360</th><td>14.3</td><td>8</td><td>360.0</td><td>245</td><td>3.21</td><td>3.570</td><td>15.84</td><td>0</td><td>0</td><td>3</td><td>4</td></tr>\n",
       "\t<tr><th scope=row>Merc 240D</th><td>24.4</td><td>4</td><td>146.7</td><td> 62</td><td>3.69</td><td>3.190</td><td>20.00</td><td>1</td><td>0</td><td>4</td><td>2</td></tr>\n",
       "\t<tr><th scope=row>Merc 230</th><td>22.8</td><td>4</td><td>140.8</td><td> 95</td><td>3.92</td><td>3.150</td><td>22.90</td><td>1</td><td>0</td><td>4</td><td>2</td></tr>\n",
       "\t<tr><th scope=row>Merc 280</th><td>19.2</td><td>6</td><td>167.6</td><td>123</td><td>3.92</td><td>3.440</td><td>18.30</td><td>1</td><td>0</td><td>4</td><td>4</td></tr>\n",
       "\t<tr><th scope=row>Merc 280C</th><td>17.8</td><td>6</td><td>167.6</td><td>123</td><td>3.92</td><td>3.440</td><td>18.90</td><td>1</td><td>0</td><td>4</td><td>4</td></tr>\n",
       "\t<tr><th scope=row>Merc 450SE</th><td>16.4</td><td>8</td><td>275.8</td><td>180</td><td>3.07</td><td>4.070</td><td>17.40</td><td>0</td><td>0</td><td>3</td><td>3</td></tr>\n",
       "\t<tr><th scope=row>Merc 450SL</th><td>17.3</td><td>8</td><td>275.8</td><td>180</td><td>3.07</td><td>3.730</td><td>17.60</td><td>0</td><td>0</td><td>3</td><td>3</td></tr>\n",
       "\t<tr><th scope=row>Merc 450SLC</th><td>15.2</td><td>8</td><td>275.8</td><td>180</td><td>3.07</td><td>3.780</td><td>18.00</td><td>0</td><td>0</td><td>3</td><td>3</td></tr>\n",
       "\t<tr><th scope=row>Cadillac Fleetwood</th><td>10.4</td><td>8</td><td>472.0</td><td>205</td><td>2.93</td><td>5.250</td><td>17.98</td><td>0</td><td>0</td><td>3</td><td>4</td></tr>\n",
       "\t<tr><th scope=row>Lincoln Continental</th><td>10.4</td><td>8</td><td>460.0</td><td>215</td><td>3.00</td><td>5.424</td><td>17.82</td><td>0</td><td>0</td><td>3</td><td>4</td></tr>\n",
       "\t<tr><th scope=row>Chrysler Imperial</th><td>14.7</td><td>8</td><td>440.0</td><td>230</td><td>3.23</td><td>5.345</td><td>17.42</td><td>0</td><td>0</td><td>3</td><td>4</td></tr>\n",
       "\t<tr><th scope=row>Fiat 128</th><td>32.4</td><td>4</td><td> 78.7</td><td> 66</td><td>4.08</td><td>2.200</td><td>19.47</td><td>1</td><td>1</td><td>4</td><td>1</td></tr>\n",
       "\t<tr><th scope=row>Honda Civic</th><td>30.4</td><td>4</td><td> 75.7</td><td> 52</td><td>4.93</td><td>1.615</td><td>18.52</td><td>1</td><td>1</td><td>4</td><td>2</td></tr>\n",
       "\t<tr><th scope=row>Toyota Corolla</th><td>33.9</td><td>4</td><td> 71.1</td><td> 65</td><td>4.22</td><td>1.835</td><td>19.90</td><td>1</td><td>1</td><td>4</td><td>1</td></tr>\n",
       "\t<tr><th scope=row>Toyota Corona</th><td>21.5</td><td>4</td><td>120.1</td><td> 97</td><td>3.70</td><td>2.465</td><td>20.01</td><td>1</td><td>0</td><td>3</td><td>1</td></tr>\n",
       "\t<tr><th scope=row>Dodge Challenger</th><td>15.5</td><td>8</td><td>318.0</td><td>150</td><td>2.76</td><td>3.520</td><td>16.87</td><td>0</td><td>0</td><td>3</td><td>2</td></tr>\n",
       "\t<tr><th scope=row>AMC Javelin</th><td>15.2</td><td>8</td><td>304.0</td><td>150</td><td>3.15</td><td>3.435</td><td>17.30</td><td>0</td><td>0</td><td>3</td><td>2</td></tr>\n",
       "\t<tr><th scope=row>Camaro Z28</th><td>13.3</td><td>8</td><td>350.0</td><td>245</td><td>3.73</td><td>3.840</td><td>15.41</td><td>0</td><td>0</td><td>3</td><td>4</td></tr>\n",
       "\t<tr><th scope=row>Pontiac Firebird</th><td>19.2</td><td>8</td><td>400.0</td><td>175</td><td>3.08</td><td>3.845</td><td>17.05</td><td>0</td><td>0</td><td>3</td><td>2</td></tr>\n",
       "\t<tr><th scope=row>Fiat X1-9</th><td>27.3</td><td>4</td><td> 79.0</td><td> 66</td><td>4.08</td><td>1.935</td><td>18.90</td><td>1</td><td>1</td><td>4</td><td>1</td></tr>\n",
       "\t<tr><th scope=row>Porsche 914-2</th><td>26.0</td><td>4</td><td>120.3</td><td> 91</td><td>4.43</td><td>2.140</td><td>16.70</td><td>0</td><td>1</td><td>5</td><td>2</td></tr>\n",
       "\t<tr><th scope=row>Lotus Europa</th><td>30.4</td><td>4</td><td> 95.1</td><td>113</td><td>3.77</td><td>1.513</td><td>16.90</td><td>1</td><td>1</td><td>5</td><td>2</td></tr>\n",
       "\t<tr><th scope=row>Ford Pantera L</th><td>15.8</td><td>8</td><td>351.0</td><td>264</td><td>4.22</td><td>3.170</td><td>14.50</td><td>0</td><td>1</td><td>5</td><td>4</td></tr>\n",
       "\t<tr><th scope=row>Ferrari Dino</th><td>19.7</td><td>6</td><td>145.0</td><td>175</td><td>3.62</td><td>2.770</td><td>15.50</td><td>0</td><td>1</td><td>5</td><td>6</td></tr>\n",
       "\t<tr><th scope=row>Maserati Bora</th><td>15.0</td><td>8</td><td>301.0</td><td>335</td><td>3.54</td><td>3.570</td><td>14.60</td><td>0</td><td>1</td><td>5</td><td>8</td></tr>\n",
       "\t<tr><th scope=row>Volvo 142E</th><td>21.4</td><td>4</td><td>121.0</td><td>109</td><td>4.11</td><td>2.780</td><td>18.60</td><td>1</td><td>1</td><td>4</td><td>2</td></tr>\n",
       "</tbody>\n",
       "</table>\n"
      ],
      "text/latex": [
       "A data.frame: 32 × 11\n",
       "\\begin{tabular}{r|lllllllllll}\n",
       "  & mpg & cyl & disp & hp & drat & wt & qsec & vs & am & gear & carb\\\\\n",
       "  & <dbl> & <dbl> & <dbl> & <dbl> & <dbl> & <dbl> & <dbl> & <dbl> & <dbl> & <dbl> & <dbl>\\\\\n",
       "\\hline\n",
       "\tMazda RX4 & 21.0 & 6 & 160.0 & 110 & 3.90 & 2.620 & 16.46 & 0 & 1 & 4 & 4\\\\\n",
       "\tMazda RX4 Wag & 21.0 & 6 & 160.0 & 110 & 3.90 & 2.875 & 17.02 & 0 & 1 & 4 & 4\\\\\n",
       "\tDatsun 710 & 22.8 & 4 & 108.0 &  93 & 3.85 & 2.320 & 18.61 & 1 & 1 & 4 & 1\\\\\n",
       "\tHornet 4 Drive & 21.4 & 6 & 258.0 & 110 & 3.08 & 3.215 & 19.44 & 1 & 0 & 3 & 1\\\\\n",
       "\tHornet Sportabout & 18.7 & 8 & 360.0 & 175 & 3.15 & 3.440 & 17.02 & 0 & 0 & 3 & 2\\\\\n",
       "\tValiant & 18.1 & 6 & 225.0 & 105 & 2.76 & 3.460 & 20.22 & 1 & 0 & 3 & 1\\\\\n",
       "\tDuster 360 & 14.3 & 8 & 360.0 & 245 & 3.21 & 3.570 & 15.84 & 0 & 0 & 3 & 4\\\\\n",
       "\tMerc 240D & 24.4 & 4 & 146.7 &  62 & 3.69 & 3.190 & 20.00 & 1 & 0 & 4 & 2\\\\\n",
       "\tMerc 230 & 22.8 & 4 & 140.8 &  95 & 3.92 & 3.150 & 22.90 & 1 & 0 & 4 & 2\\\\\n",
       "\tMerc 280 & 19.2 & 6 & 167.6 & 123 & 3.92 & 3.440 & 18.30 & 1 & 0 & 4 & 4\\\\\n",
       "\tMerc 280C & 17.8 & 6 & 167.6 & 123 & 3.92 & 3.440 & 18.90 & 1 & 0 & 4 & 4\\\\\n",
       "\tMerc 450SE & 16.4 & 8 & 275.8 & 180 & 3.07 & 4.070 & 17.40 & 0 & 0 & 3 & 3\\\\\n",
       "\tMerc 450SL & 17.3 & 8 & 275.8 & 180 & 3.07 & 3.730 & 17.60 & 0 & 0 & 3 & 3\\\\\n",
       "\tMerc 450SLC & 15.2 & 8 & 275.8 & 180 & 3.07 & 3.780 & 18.00 & 0 & 0 & 3 & 3\\\\\n",
       "\tCadillac Fleetwood & 10.4 & 8 & 472.0 & 205 & 2.93 & 5.250 & 17.98 & 0 & 0 & 3 & 4\\\\\n",
       "\tLincoln Continental & 10.4 & 8 & 460.0 & 215 & 3.00 & 5.424 & 17.82 & 0 & 0 & 3 & 4\\\\\n",
       "\tChrysler Imperial & 14.7 & 8 & 440.0 & 230 & 3.23 & 5.345 & 17.42 & 0 & 0 & 3 & 4\\\\\n",
       "\tFiat 128 & 32.4 & 4 &  78.7 &  66 & 4.08 & 2.200 & 19.47 & 1 & 1 & 4 & 1\\\\\n",
       "\tHonda Civic & 30.4 & 4 &  75.7 &  52 & 4.93 & 1.615 & 18.52 & 1 & 1 & 4 & 2\\\\\n",
       "\tToyota Corolla & 33.9 & 4 &  71.1 &  65 & 4.22 & 1.835 & 19.90 & 1 & 1 & 4 & 1\\\\\n",
       "\tToyota Corona & 21.5 & 4 & 120.1 &  97 & 3.70 & 2.465 & 20.01 & 1 & 0 & 3 & 1\\\\\n",
       "\tDodge Challenger & 15.5 & 8 & 318.0 & 150 & 2.76 & 3.520 & 16.87 & 0 & 0 & 3 & 2\\\\\n",
       "\tAMC Javelin & 15.2 & 8 & 304.0 & 150 & 3.15 & 3.435 & 17.30 & 0 & 0 & 3 & 2\\\\\n",
       "\tCamaro Z28 & 13.3 & 8 & 350.0 & 245 & 3.73 & 3.840 & 15.41 & 0 & 0 & 3 & 4\\\\\n",
       "\tPontiac Firebird & 19.2 & 8 & 400.0 & 175 & 3.08 & 3.845 & 17.05 & 0 & 0 & 3 & 2\\\\\n",
       "\tFiat X1-9 & 27.3 & 4 &  79.0 &  66 & 4.08 & 1.935 & 18.90 & 1 & 1 & 4 & 1\\\\\n",
       "\tPorsche 914-2 & 26.0 & 4 & 120.3 &  91 & 4.43 & 2.140 & 16.70 & 0 & 1 & 5 & 2\\\\\n",
       "\tLotus Europa & 30.4 & 4 &  95.1 & 113 & 3.77 & 1.513 & 16.90 & 1 & 1 & 5 & 2\\\\\n",
       "\tFord Pantera L & 15.8 & 8 & 351.0 & 264 & 4.22 & 3.170 & 14.50 & 0 & 1 & 5 & 4\\\\\n",
       "\tFerrari Dino & 19.7 & 6 & 145.0 & 175 & 3.62 & 2.770 & 15.50 & 0 & 1 & 5 & 6\\\\\n",
       "\tMaserati Bora & 15.0 & 8 & 301.0 & 335 & 3.54 & 3.570 & 14.60 & 0 & 1 & 5 & 8\\\\\n",
       "\tVolvo 142E & 21.4 & 4 & 121.0 & 109 & 4.11 & 2.780 & 18.60 & 1 & 1 & 4 & 2\\\\\n",
       "\\end{tabular}\n"
      ],
      "text/markdown": [
       "\n",
       "A data.frame: 32 × 11\n",
       "\n",
       "| <!--/--> | mpg &lt;dbl&gt; | cyl &lt;dbl&gt; | disp &lt;dbl&gt; | hp &lt;dbl&gt; | drat &lt;dbl&gt; | wt &lt;dbl&gt; | qsec &lt;dbl&gt; | vs &lt;dbl&gt; | am &lt;dbl&gt; | gear &lt;dbl&gt; | carb &lt;dbl&gt; |\n",
       "|---|---|---|---|---|---|---|---|---|---|---|---|\n",
       "| Mazda RX4 | 21.0 | 6 | 160.0 | 110 | 3.90 | 2.620 | 16.46 | 0 | 1 | 4 | 4 |\n",
       "| Mazda RX4 Wag | 21.0 | 6 | 160.0 | 110 | 3.90 | 2.875 | 17.02 | 0 | 1 | 4 | 4 |\n",
       "| Datsun 710 | 22.8 | 4 | 108.0 |  93 | 3.85 | 2.320 | 18.61 | 1 | 1 | 4 | 1 |\n",
       "| Hornet 4 Drive | 21.4 | 6 | 258.0 | 110 | 3.08 | 3.215 | 19.44 | 1 | 0 | 3 | 1 |\n",
       "| Hornet Sportabout | 18.7 | 8 | 360.0 | 175 | 3.15 | 3.440 | 17.02 | 0 | 0 | 3 | 2 |\n",
       "| Valiant | 18.1 | 6 | 225.0 | 105 | 2.76 | 3.460 | 20.22 | 1 | 0 | 3 | 1 |\n",
       "| Duster 360 | 14.3 | 8 | 360.0 | 245 | 3.21 | 3.570 | 15.84 | 0 | 0 | 3 | 4 |\n",
       "| Merc 240D | 24.4 | 4 | 146.7 |  62 | 3.69 | 3.190 | 20.00 | 1 | 0 | 4 | 2 |\n",
       "| Merc 230 | 22.8 | 4 | 140.8 |  95 | 3.92 | 3.150 | 22.90 | 1 | 0 | 4 | 2 |\n",
       "| Merc 280 | 19.2 | 6 | 167.6 | 123 | 3.92 | 3.440 | 18.30 | 1 | 0 | 4 | 4 |\n",
       "| Merc 280C | 17.8 | 6 | 167.6 | 123 | 3.92 | 3.440 | 18.90 | 1 | 0 | 4 | 4 |\n",
       "| Merc 450SE | 16.4 | 8 | 275.8 | 180 | 3.07 | 4.070 | 17.40 | 0 | 0 | 3 | 3 |\n",
       "| Merc 450SL | 17.3 | 8 | 275.8 | 180 | 3.07 | 3.730 | 17.60 | 0 | 0 | 3 | 3 |\n",
       "| Merc 450SLC | 15.2 | 8 | 275.8 | 180 | 3.07 | 3.780 | 18.00 | 0 | 0 | 3 | 3 |\n",
       "| Cadillac Fleetwood | 10.4 | 8 | 472.0 | 205 | 2.93 | 5.250 | 17.98 | 0 | 0 | 3 | 4 |\n",
       "| Lincoln Continental | 10.4 | 8 | 460.0 | 215 | 3.00 | 5.424 | 17.82 | 0 | 0 | 3 | 4 |\n",
       "| Chrysler Imperial | 14.7 | 8 | 440.0 | 230 | 3.23 | 5.345 | 17.42 | 0 | 0 | 3 | 4 |\n",
       "| Fiat 128 | 32.4 | 4 |  78.7 |  66 | 4.08 | 2.200 | 19.47 | 1 | 1 | 4 | 1 |\n",
       "| Honda Civic | 30.4 | 4 |  75.7 |  52 | 4.93 | 1.615 | 18.52 | 1 | 1 | 4 | 2 |\n",
       "| Toyota Corolla | 33.9 | 4 |  71.1 |  65 | 4.22 | 1.835 | 19.90 | 1 | 1 | 4 | 1 |\n",
       "| Toyota Corona | 21.5 | 4 | 120.1 |  97 | 3.70 | 2.465 | 20.01 | 1 | 0 | 3 | 1 |\n",
       "| Dodge Challenger | 15.5 | 8 | 318.0 | 150 | 2.76 | 3.520 | 16.87 | 0 | 0 | 3 | 2 |\n",
       "| AMC Javelin | 15.2 | 8 | 304.0 | 150 | 3.15 | 3.435 | 17.30 | 0 | 0 | 3 | 2 |\n",
       "| Camaro Z28 | 13.3 | 8 | 350.0 | 245 | 3.73 | 3.840 | 15.41 | 0 | 0 | 3 | 4 |\n",
       "| Pontiac Firebird | 19.2 | 8 | 400.0 | 175 | 3.08 | 3.845 | 17.05 | 0 | 0 | 3 | 2 |\n",
       "| Fiat X1-9 | 27.3 | 4 |  79.0 |  66 | 4.08 | 1.935 | 18.90 | 1 | 1 | 4 | 1 |\n",
       "| Porsche 914-2 | 26.0 | 4 | 120.3 |  91 | 4.43 | 2.140 | 16.70 | 0 | 1 | 5 | 2 |\n",
       "| Lotus Europa | 30.4 | 4 |  95.1 | 113 | 3.77 | 1.513 | 16.90 | 1 | 1 | 5 | 2 |\n",
       "| Ford Pantera L | 15.8 | 8 | 351.0 | 264 | 4.22 | 3.170 | 14.50 | 0 | 1 | 5 | 4 |\n",
       "| Ferrari Dino | 19.7 | 6 | 145.0 | 175 | 3.62 | 2.770 | 15.50 | 0 | 1 | 5 | 6 |\n",
       "| Maserati Bora | 15.0 | 8 | 301.0 | 335 | 3.54 | 3.570 | 14.60 | 0 | 1 | 5 | 8 |\n",
       "| Volvo 142E | 21.4 | 4 | 121.0 | 109 | 4.11 | 2.780 | 18.60 | 1 | 1 | 4 | 2 |\n",
       "\n"
      ],
      "text/plain": [
       "                    mpg  cyl disp  hp  drat wt    qsec  vs am gear carb\n",
       "Mazda RX4           21.0 6   160.0 110 3.90 2.620 16.46 0  1  4    4   \n",
       "Mazda RX4 Wag       21.0 6   160.0 110 3.90 2.875 17.02 0  1  4    4   \n",
       "Datsun 710          22.8 4   108.0  93 3.85 2.320 18.61 1  1  4    1   \n",
       "Hornet 4 Drive      21.4 6   258.0 110 3.08 3.215 19.44 1  0  3    1   \n",
       "Hornet Sportabout   18.7 8   360.0 175 3.15 3.440 17.02 0  0  3    2   \n",
       "Valiant             18.1 6   225.0 105 2.76 3.460 20.22 1  0  3    1   \n",
       "Duster 360          14.3 8   360.0 245 3.21 3.570 15.84 0  0  3    4   \n",
       "Merc 240D           24.4 4   146.7  62 3.69 3.190 20.00 1  0  4    2   \n",
       "Merc 230            22.8 4   140.8  95 3.92 3.150 22.90 1  0  4    2   \n",
       "Merc 280            19.2 6   167.6 123 3.92 3.440 18.30 1  0  4    4   \n",
       "Merc 280C           17.8 6   167.6 123 3.92 3.440 18.90 1  0  4    4   \n",
       "Merc 450SE          16.4 8   275.8 180 3.07 4.070 17.40 0  0  3    3   \n",
       "Merc 450SL          17.3 8   275.8 180 3.07 3.730 17.60 0  0  3    3   \n",
       "Merc 450SLC         15.2 8   275.8 180 3.07 3.780 18.00 0  0  3    3   \n",
       "Cadillac Fleetwood  10.4 8   472.0 205 2.93 5.250 17.98 0  0  3    4   \n",
       "Lincoln Continental 10.4 8   460.0 215 3.00 5.424 17.82 0  0  3    4   \n",
       "Chrysler Imperial   14.7 8   440.0 230 3.23 5.345 17.42 0  0  3    4   \n",
       "Fiat 128            32.4 4    78.7  66 4.08 2.200 19.47 1  1  4    1   \n",
       "Honda Civic         30.4 4    75.7  52 4.93 1.615 18.52 1  1  4    2   \n",
       "Toyota Corolla      33.9 4    71.1  65 4.22 1.835 19.90 1  1  4    1   \n",
       "Toyota Corona       21.5 4   120.1  97 3.70 2.465 20.01 1  0  3    1   \n",
       "Dodge Challenger    15.5 8   318.0 150 2.76 3.520 16.87 0  0  3    2   \n",
       "AMC Javelin         15.2 8   304.0 150 3.15 3.435 17.30 0  0  3    2   \n",
       "Camaro Z28          13.3 8   350.0 245 3.73 3.840 15.41 0  0  3    4   \n",
       "Pontiac Firebird    19.2 8   400.0 175 3.08 3.845 17.05 0  0  3    2   \n",
       "Fiat X1-9           27.3 4    79.0  66 4.08 1.935 18.90 1  1  4    1   \n",
       "Porsche 914-2       26.0 4   120.3  91 4.43 2.140 16.70 0  1  5    2   \n",
       "Lotus Europa        30.4 4    95.1 113 3.77 1.513 16.90 1  1  5    2   \n",
       "Ford Pantera L      15.8 8   351.0 264 4.22 3.170 14.50 0  1  5    4   \n",
       "Ferrari Dino        19.7 6   145.0 175 3.62 2.770 15.50 0  1  5    6   \n",
       "Maserati Bora       15.0 8   301.0 335 3.54 3.570 14.60 0  1  5    8   \n",
       "Volvo 142E          21.4 4   121.0 109 4.11 2.780 18.60 1  1  4    2   "
      ]
     },
     "metadata": {},
     "output_type": "display_data"
    },
    {
     "name": "stdout",
     "output_type": "stream",
     "text": [
      "                   mpg cyl\n",
      "Mazda RX4         21.0   6\n",
      "Mazda RX4 Wag     21.0   6\n",
      "Datsun 710        22.8   4\n",
      "Hornet 4 Drive    21.4   6\n",
      "Hornet Sportabout 18.7   8\n",
      "Valiant           18.1   6\n"
     ]
    },
    {
     "data": {
      "image/png": "[encoded data removed]",
      "text/plain": [
       "Plot with title \"Mileage Data\""
      ]
     },
     "metadata": {
      "image/png": {
       "height": 420,
       "width": 420
      }
     },
     "output_type": "display_data"
    }
   ],
   "source": [
    "mtcars\n",
    "input <- mtcars[,c('mpg','cyl')]\n",
    "print(head(input))\n",
    "boxplot(mpg ~ cyl, data = mtcars, xlab = \"Number of Cylinders\",ylab = \"Miles Per Gallon\", main = \"Mileage Data\")\n"
   ]
  },
  {
   "cell_type": "markdown",
   "metadata": {},
   "source": [
    "C) Pie Chart"
   ]
  },
  {
   "cell_type": "code",
   "execution_count": 14,
   "metadata": {
    "vscode": {
     "languageId": "r"
    }
   },
   "outputs": [
    {
     "data": {
      "image/png": "[encoded data removed]",
      "text/plain": [
       "Plot with title \"City pie chart\""
      ]
     },
     "metadata": {
      "image/png": {
       "height": 420,
       "width": 420
      }
     },
     "output_type": "display_data"
    }
   ],
   "source": [
    "x <- c(21, 62, 10, 53,76)\n",
    "labels <-  c(\"London\",\"NewYork\",\"Singapore\",\"Mumbai\",\"Chennai\")\n",
    "piepercent<- round(100*x/sum(x), 1)\n",
    "pie(x, labels = piepercent, main = \"City pie chart\",col = rainbow(length(x)))\n",
    "legend(\"topleft\", c(\"London\",\"NewYork\",\"Singapore\",\"Mumbai\",\"Chennai\"), cex = 0.5,\n",
    "fill = rainbow(length(x)))\n"
   ]
  },
  {
   "cell_type": "markdown",
   "metadata": {},
   "source": [
    "D) Histogram"
   ]
  },
  {
   "cell_type": "code",
   "execution_count": 15,
   "metadata": {
    "vscode": {
     "languageId": "r"
    }
   },
   "outputs": [
    {
     "data": {
      "image/png": "[encoded data removed]",
      "text/plain": [
       "Plot with title \"Histogram of v\""
      ]
     },
     "metadata": {
      "image/png": {
       "height": 420,
       "width": 420
      }
     },
     "output_type": "display_data"
    }
   ],
   "source": [
    "v <- c(9,13,21,8,36,22,12,41,31,33,19)\n",
    "hist(v,xlab = \"Weight\",col = \"green\",border = \"red\", xlim = c(0,40), ylim = c(0,5),\n",
    "     breaks = 5)\n"
   ]
  },
  {
   "cell_type": "markdown",
   "metadata": {},
   "source": [
    "E) Line Plot"
   ]
  },
  {
   "cell_type": "code",
   "execution_count": 16,
   "metadata": {
    "vscode": {
     "languageId": "r"
    }
   },
   "outputs": [
    {
     "data": {
      "image/png": "[encoded data removed]",
      "text/plain": [
       "Plot with title \"Rain fall chart\""
      ]
     },
     "metadata": {
      "image/png": {
       "height": 420,
       "width": 420
      }
     },
     "output_type": "display_data"
    }
   ],
   "source": [
    "v <- c(7,12,28,3,41)\n",
    "t <- c(14,7,6,19,3)\n",
    "plot(v,type = \"o\",col = \"red\", xlab = \"Month\", ylab = \"Rain fall\", \n",
    "     main = \"Rain fall chart\")\n",
    "lines(t, type = \"o\", col = \"blue\")\n"
   ]
  },
  {
   "cell_type": "markdown",
   "metadata": {},
   "source": [
    "11 Distributions"
   ]
  },
  {
   "cell_type": "markdown",
   "metadata": {},
   "source": [
    "a)Binomial Distribution"
   ]
  },
  {
   "cell_type": "code",
   "execution_count": 18,
   "metadata": {
    "vscode": {
     "languageId": "r"
    }
   },
   "outputs": [
    {
     "name": "stdout",
     "output_type": "stream",
     "text": [
      "[1] 0.610116\n",
      "[1] 23\n",
      "[1] 67 59 58 56 60 61 55 69\n"
     ]
    },
    {
     "data": {
      "image/png": "[encoded data removed]",
      "text/plain": [
       "plot without title"
      ]
     },
     "metadata": {
      "image/png": {
       "height": 420,
       "width": 420
      }
     },
     "output_type": "display_data"
    }
   ],
   "source": [
    "#dbinom()\n",
    "x <- seq(0,50,by = 1)\n",
    "y <- dbinom(x,50,0.5)\n",
    "plot(x,y)\n",
    "#pbinom()\n",
    "x <- pbinom(26,51,0.5)\n",
    "\n",
    "print(x)\n",
    "\n",
    "#qbinom()\n",
    "x <-qbinom(0.25,51,1/2)\n",
    "\n",
    "print(x)\n",
    "\n",
    "#rbinom()\n",
    "x <-rbinom(8,150,.4)\n",
    "\n",
    "print(x)"
   ]
  },
  {
   "cell_type": "markdown",
   "metadata": {},
   "source": [
    "B) Poisson Distribution"
   ]
  },
  {
   "cell_type": "code",
   "execution_count": 19,
   "metadata": {
    "vscode": {
     "languageId": "r"
    }
   },
   "outputs": [
    {
     "name": "stdout",
     "output_type": "stream",
     "text": [
      "\n",
      "Call:\n",
      "glm(formula = breaks ~ wool + tension, family = poisson, data = warpbreaks)\n",
      "\n",
      "Coefficients:\n",
      "            Estimate Std. Error z value Pr(>|z|)    \n",
      "(Intercept)  3.69196    0.04541  81.302  < 2e-16 ***\n",
      "woolB       -0.20599    0.05157  -3.994 6.49e-05 ***\n",
      "tensionM    -0.32132    0.06027  -5.332 9.73e-08 ***\n",
      "tensionH    -0.51849    0.06396  -8.107 5.21e-16 ***\n",
      "---\n",
      "Signif. codes:  0 '***' 0.001 '**' 0.01 '*' 0.05 '.' 0.1 ' ' 1\n",
      "\n",
      "(Dispersion parameter for poisson family taken to be 1)\n",
      "\n",
      "    Null deviance: 297.37  on 53  degrees of freedom\n",
      "Residual deviance: 210.39  on 50  degrees of freedom\n",
      "AIC: 493.06\n",
      "\n",
      "Number of Fisher Scoring iterations: 4\n",
      "\n"
     ]
    }
   ],
   "source": [
    "output <-glm(formula = breaks ~ wool+tension, data = warpbreaks,\n",
    "             family = poisson)\n",
    "print(summary(output))\n"
   ]
  },
  {
   "cell_type": "markdown",
   "metadata": {},
   "source": [
    "c)Continuous Uniform Distribution\n"
   ]
  },
  {
   "cell_type": "code",
   "execution_count": 20,
   "metadata": {
    "vscode": {
     "languageId": "r"
    }
   },
   "outputs": [
    {
     "data": {
      "text/html": [
       "<style>\n",
       ".list-inline {list-style: none; margin:0; padding: 0}\n",
       ".list-inline>li {display: inline-block}\n",
       ".list-inline>li:not(:last-child)::after {content: \"\\00b7\"; padding: 0 .5ex}\n",
       "</style>\n",
       "<ol class=list-inline><li>1.98537661554292</li><li>1.90708545967937</li><li>1.7566364700906</li><li>1.94000125862658</li><li>2.24076444795355</li><li>1.65455056494102</li><li>2.16087622847408</li><li>2.77356715640053</li><li>2.94748733425513</li><li>1.02134596230462</li><li>2.76089694583789</li><li>1.73297020699829</li><li>1.50801603449509</li><li>1.69370792154223</li><li>1.86751057300717</li></ol>\n"
      ],
      "text/latex": [
       "\\begin{enumerate*}\n",
       "\\item 1.98537661554292\n",
       "\\item 1.90708545967937\n",
       "\\item 1.7566364700906\n",
       "\\item 1.94000125862658\n",
       "\\item 2.24076444795355\n",
       "\\item 1.65455056494102\n",
       "\\item 2.16087622847408\n",
       "\\item 2.77356715640053\n",
       "\\item 2.94748733425513\n",
       "\\item 1.02134596230462\n",
       "\\item 2.76089694583789\n",
       "\\item 1.73297020699829\n",
       "\\item 1.50801603449509\n",
       "\\item 1.69370792154223\n",
       "\\item 1.86751057300717\n",
       "\\end{enumerate*}\n"
      ],
      "text/markdown": [
       "1. 1.98537661554292\n",
       "2. 1.90708545967937\n",
       "3. 1.7566364700906\n",
       "4. 1.94000125862658\n",
       "5. 2.24076444795355\n",
       "6. 1.65455056494102\n",
       "7. 2.16087622847408\n",
       "8. 2.77356715640053\n",
       "9. 2.94748733425513\n",
       "10. 1.02134596230462\n",
       "11. 2.76089694583789\n",
       "12. 1.73297020699829\n",
       "13. 1.50801603449509\n",
       "14. 1.69370792154223\n",
       "15. 1.86751057300717\n",
       "\n",
       "\n"
      ],
      "text/plain": [
       " [1] 1.985377 1.907085 1.756636 1.940001 2.240764 1.654551 2.160876 2.773567\n",
       " [9] 2.947487 1.021346 2.760897 1.732970 1.508016 1.693708 1.867511"
      ]
     },
     "metadata": {},
     "output_type": "display_data"
    },
    {
     "data": {
      "text/html": [
       "8"
      ],
      "text/latex": [
       "8"
      ],
      "text/markdown": [
       "8"
      ],
      "text/plain": [
       "[1] 8"
      ]
     },
     "metadata": {},
     "output_type": "display_data"
    },
    {
     "data": {
      "text/html": [
       "<style>\n",
       ".list-inline {list-style: none; margin:0; padding: 0}\n",
       ".list-inline>li {display: inline-block}\n",
       ".list-inline>li:not(:last-child)::after {content: \"\\00b7\"; padding: 0 .5ex}\n",
       "</style>\n",
       "<ol class=list-inline><li>0.0526315789473684</li><li>0.0526315789473684</li><li>0.0526315789473684</li><li>0.0526315789473684</li><li>0.0526315789473684</li><li>0.0526315789473684</li></ol>\n"
      ],
      "text/latex": [
       "\\begin{enumerate*}\n",
       "\\item 0.0526315789473684\n",
       "\\item 0.0526315789473684\n",
       "\\item 0.0526315789473684\n",
       "\\item 0.0526315789473684\n",
       "\\item 0.0526315789473684\n",
       "\\item 0.0526315789473684\n",
       "\\end{enumerate*}\n"
      ],
      "text/markdown": [
       "1. 0.0526315789473684\n",
       "2. 0.0526315789473684\n",
       "3. 0.0526315789473684\n",
       "4. 0.0526315789473684\n",
       "5. 0.0526315789473684\n",
       "6. 0.0526315789473684\n",
       "\n",
       "\n"
      ],
      "text/plain": [
       "[1] 0.05263158 0.05263158 0.05263158 0.05263158 0.05263158 0.05263158"
      ]
     },
     "metadata": {},
     "output_type": "display_data"
    },
    {
     "data": {
      "text/html": [
       "0.25"
      ],
      "text/latex": [
       "0.25"
      ],
      "text/markdown": [
       "0.25"
      ],
      "text/plain": [
       "[1] 0.25"
      ]
     },
     "metadata": {},
     "output_type": "display_data"
    }
   ],
   "source": [
    "runif(15, min=1, max=3) \n",
    "\n",
    "#qunif() \n",
    "min <- 0\n",
    "max <- 40\n",
    "qunif(0.2, min = min, max = max)\n",
    "\n",
    " \n",
    "#dunif()\n",
    "x <- 5:10\n",
    "dunif(x, min = 1, max = 20)\n",
    " \n",
    "#punif()\n",
    "min <- 0 \n",
    "max <- 60\n",
    "punif(15 , min =min , max = max)\n",
    " \n"
   ]
  },
  {
   "cell_type": "markdown",
   "metadata": {},
   "source": [
    "d)Exponential Distribution"
   ]
  },
  {
   "cell_type": "code",
   "execution_count": null,
   "metadata": {
    "vscode": {
     "languageId": "r"
    }
   },
   "outputs": [],
   "source": []
  },
  {
   "cell_type": "markdown",
   "metadata": {},
   "source": [
    "e)Normal Distribution"
   ]
  },
  {
   "cell_type": "code",
   "execution_count": null,
   "metadata": {
    "vscode": {
     "languageId": "r"
    }
   },
   "outputs": [],
   "source": []
  },
  {
   "cell_type": "markdown",
   "metadata": {},
   "source": [
    "f)Chi-Squared Distribution"
   ]
  },
  {
   "cell_type": "code",
   "execution_count": null,
   "metadata": {
    "vscode": {
     "languageId": "r"
    }
   },
   "outputs": [],
   "source": []
  },
  {
   "cell_type": "markdown",
   "metadata": {},
   "source": [
    "15 .Guna’s theory"
   ]
  },
  {
   "cell_type": "code",
   "execution_count": 24,
   "metadata": {
    "vscode": {
     "languageId": "r"
    }
   },
   "outputs": [
    {
     "data": {
      "text/html": [
       "<table class=\"dataframe\">\n",
       "<caption>A data.frame: 6 × 24</caption>\n",
       "<thead>\n",
       "\t<tr><th></th><th scope=col>Sno</th><th scope=col>Regno</th><th scope=col>Sattvic</th><th scope=col>Rajasic</th><th scope=col>Tamasic</th><th scope=col>Number</th><th scope=col>Letter</th><th scope=col>Verbal</th><th scope=col>Logical</th><th scope=col>Non.Verbal</th><th scope=col>⋯</th><th scope=col>Mentalability</th><th scope=col>height</th><th scope=col>weight</th><th scope=col>BMI</th><th scope=col>Type</th><th scope=col>Att.Value</th><th scope=col>PhyValue</th><th scope=col>Total</th><th scope=col>Gender</th><th scope=col>name</th></tr>\n",
       "\t<tr><th></th><th scope=col>&lt;int&gt;</th><th scope=col>&lt;int&gt;</th><th scope=col>&lt;int&gt;</th><th scope=col>&lt;int&gt;</th><th scope=col>&lt;int&gt;</th><th scope=col>&lt;int&gt;</th><th scope=col>&lt;int&gt;</th><th scope=col>&lt;int&gt;</th><th scope=col>&lt;int&gt;</th><th scope=col>&lt;int&gt;</th><th scope=col>⋯</th><th scope=col>&lt;chr&gt;</th><th scope=col>&lt;dbl&gt;</th><th scope=col>&lt;dbl&gt;</th><th scope=col>&lt;dbl&gt;</th><th scope=col>&lt;chr&gt;</th><th scope=col>&lt;int&gt;</th><th scope=col>&lt;int&gt;</th><th scope=col>&lt;int&gt;</th><th scope=col>&lt;chr&gt;</th><th scope=col>&lt;chr&gt;</th></tr>\n",
       "</thead>\n",
       "<tbody>\n",
       "\t<tr><th scope=row>1</th><td>1</td><td>77</td><td> 8</td><td>8</td><td> 8</td><td>5</td><td>2</td><td>0</td><td>0</td><td>0</td><td>⋯</td><td>Low   </td><td>5.50</td><td>60</td><td>21.34990</td><td>Normal     </td><td>40</td><td>3</td><td>47</td><td>M</td><td>test            </td></tr>\n",
       "\t<tr><th scope=row>2</th><td>2</td><td>78</td><td> 0</td><td>0</td><td> 0</td><td>5</td><td>5</td><td>5</td><td>2</td><td>0</td><td>⋯</td><td>Medium</td><td>5.11</td><td>57</td><td>23.49650</td><td>Normal     </td><td>40</td><td>3</td><td>57</td><td>M</td><td>A.Mohan         </td></tr>\n",
       "\t<tr><th scope=row>3</th><td>3</td><td>79</td><td> 0</td><td>0</td><td> 2</td><td>5</td><td>5</td><td>4</td><td>0</td><td>0</td><td>⋯</td><td>Medium</td><td>5.90</td><td>62</td><td>19.17157</td><td>Normal     </td><td>10</td><td>3</td><td>24</td><td>M</td><td>V.Karthi        </td></tr>\n",
       "\t<tr><th scope=row>4</th><td>4</td><td>81</td><td> 4</td><td>4</td><td> 8</td><td>5</td><td>5</td><td>5</td><td>0</td><td>0</td><td>⋯</td><td>Medium</td><td>5.20</td><td>52</td><td>20.69983</td><td>Normal     </td><td>10</td><td>3</td><td>25</td><td>M</td><td>N.MURUGESH      </td></tr>\n",
       "\t<tr><th scope=row>5</th><td>5</td><td>82</td><td>-4</td><td>0</td><td>-4</td><td>5</td><td>5</td><td>5</td><td>4</td><td>0</td><td>⋯</td><td>Medium</td><td>5.50</td><td>48</td><td>17.07992</td><td>UnderWeight</td><td>40</td><td>1</td><td>59</td><td>M</td><td>RAJA            </td></tr>\n",
       "\t<tr><th scope=row>6</th><td>6</td><td>83</td><td> 6</td><td>6</td><td> 0</td><td>5</td><td>5</td><td>5</td><td>2</td><td>0</td><td>⋯</td><td>Medium</td><td>5.20</td><td>52</td><td>20.69983</td><td>Normal     </td><td>40</td><td>3</td><td>57</td><td>M</td><td>Velmani Karnan.B</td></tr>\n",
       "</tbody>\n",
       "</table>\n"
      ],
      "text/latex": [
       "A data.frame: 6 × 24\n",
       "\\begin{tabular}{r|lllllllllllllllllllll}\n",
       "  & Sno & Regno & Sattvic & Rajasic & Tamasic & Number & Letter & Verbal & Logical & Non.Verbal & ⋯ & Mentalability & height & weight & BMI & Type & Att.Value & PhyValue & Total & Gender & name\\\\\n",
       "  & <int> & <int> & <int> & <int> & <int> & <int> & <int> & <int> & <int> & <int> & ⋯ & <chr> & <dbl> & <dbl> & <dbl> & <chr> & <int> & <int> & <int> & <chr> & <chr>\\\\\n",
       "\\hline\n",
       "\t1 & 1 & 77 &  8 & 8 &  8 & 5 & 2 & 0 & 0 & 0 & ⋯ & Low    & 5.50 & 60 & 21.34990 & Normal      & 40 & 3 & 47 & M & test            \\\\\n",
       "\t2 & 2 & 78 &  0 & 0 &  0 & 5 & 5 & 5 & 2 & 0 & ⋯ & Medium & 5.11 & 57 & 23.49650 & Normal      & 40 & 3 & 57 & M & A.Mohan         \\\\\n",
       "\t3 & 3 & 79 &  0 & 0 &  2 & 5 & 5 & 4 & 0 & 0 & ⋯ & Medium & 5.90 & 62 & 19.17157 & Normal      & 10 & 3 & 24 & M & V.Karthi        \\\\\n",
       "\t4 & 4 & 81 &  4 & 4 &  8 & 5 & 5 & 5 & 0 & 0 & ⋯ & Medium & 5.20 & 52 & 20.69983 & Normal      & 10 & 3 & 25 & M & N.MURUGESH      \\\\\n",
       "\t5 & 5 & 82 & -4 & 0 & -4 & 5 & 5 & 5 & 4 & 0 & ⋯ & Medium & 5.50 & 48 & 17.07992 & UnderWeight & 40 & 1 & 59 & M & RAJA            \\\\\n",
       "\t6 & 6 & 83 &  6 & 6 &  0 & 5 & 5 & 5 & 2 & 0 & ⋯ & Medium & 5.20 & 52 & 20.69983 & Normal      & 40 & 3 & 57 & M & Velmani Karnan.B\\\\\n",
       "\\end{tabular}\n"
      ],
      "text/markdown": [
       "\n",
       "A data.frame: 6 × 24\n",
       "\n",
       "| <!--/--> | Sno &lt;int&gt; | Regno &lt;int&gt; | Sattvic &lt;int&gt; | Rajasic &lt;int&gt; | Tamasic &lt;int&gt; | Number &lt;int&gt; | Letter &lt;int&gt; | Verbal &lt;int&gt; | Logical &lt;int&gt; | Non.Verbal &lt;int&gt; | ⋯ ⋯ | Mentalability &lt;chr&gt; | height &lt;dbl&gt; | weight &lt;dbl&gt; | BMI &lt;dbl&gt; | Type &lt;chr&gt; | Att.Value &lt;int&gt; | PhyValue &lt;int&gt; | Total &lt;int&gt; | Gender &lt;chr&gt; | name &lt;chr&gt; |\n",
       "|---|---|---|---|---|---|---|---|---|---|---|---|---|---|---|---|---|---|---|---|---|---|\n",
       "| 1 | 1 | 77 |  8 | 8 |  8 | 5 | 2 | 0 | 0 | 0 | ⋯ | Low    | 5.50 | 60 | 21.34990 | Normal      | 40 | 3 | 47 | M | test             |\n",
       "| 2 | 2 | 78 |  0 | 0 |  0 | 5 | 5 | 5 | 2 | 0 | ⋯ | Medium | 5.11 | 57 | 23.49650 | Normal      | 40 | 3 | 57 | M | A.Mohan          |\n",
       "| 3 | 3 | 79 |  0 | 0 |  2 | 5 | 5 | 4 | 0 | 0 | ⋯ | Medium | 5.90 | 62 | 19.17157 | Normal      | 10 | 3 | 24 | M | V.Karthi         |\n",
       "| 4 | 4 | 81 |  4 | 4 |  8 | 5 | 5 | 5 | 0 | 0 | ⋯ | Medium | 5.20 | 52 | 20.69983 | Normal      | 10 | 3 | 25 | M | N.MURUGESH       |\n",
       "| 5 | 5 | 82 | -4 | 0 | -4 | 5 | 5 | 5 | 4 | 0 | ⋯ | Medium | 5.50 | 48 | 17.07992 | UnderWeight | 40 | 1 | 59 | M | RAJA             |\n",
       "| 6 | 6 | 83 |  6 | 6 |  0 | 5 | 5 | 5 | 2 | 0 | ⋯ | Medium | 5.20 | 52 | 20.69983 | Normal      | 40 | 3 | 57 | M | Velmani Karnan.B |\n",
       "\n"
      ],
      "text/plain": [
       "  Sno Regno Sattvic Rajasic Tamasic Number Letter Verbal Logical Non.Verbal ⋯\n",
       "1 1   77     8      8        8      5      2      0      0       0          ⋯\n",
       "2 2   78     0      0        0      5      5      5      2       0          ⋯\n",
       "3 3   79     0      0        2      5      5      4      0       0          ⋯\n",
       "4 4   81     4      4        8      5      5      5      0       0          ⋯\n",
       "5 5   82    -4      0       -4      5      5      5      4       0          ⋯\n",
       "6 6   83     6      6        0      5      5      5      2       0          ⋯\n",
       "  Mentalability height weight BMI      Type        Att.Value PhyValue Total\n",
       "1 Low           5.50   60     21.34990 Normal      40        3        47   \n",
       "2 Medium        5.11   57     23.49650 Normal      40        3        57   \n",
       "3 Medium        5.90   62     19.17157 Normal      10        3        24   \n",
       "4 Medium        5.20   52     20.69983 Normal      10        3        25   \n",
       "5 Medium        5.50   48     17.07992 UnderWeight 40        1        59   \n",
       "6 Medium        5.20   52     20.69983 Normal      40        3        57   \n",
       "  Gender name            \n",
       "1 M      test            \n",
       "2 M      A.Mohan         \n",
       "3 M      V.Karthi        \n",
       "4 M      N.MURUGESH      \n",
       "5 M      RAJA            \n",
       "6 M      Velmani Karnan.B"
      ]
     },
     "metadata": {},
     "output_type": "display_data"
    },
    {
     "data": {
      "image/png": "[encoded data removed]",
      "text/plain": [
       "plot without title"
      ]
     },
     "metadata": {
      "image/png": {
       "height": 420,
       "width": 420
      }
     },
     "output_type": "display_data"
    }
   ],
   "source": [
    "guna<-read.csv(\"E:\\\\GitHub\\\\MCA\\\\DataScience_R_Lab\\\\Lab\\\\Lab Submit\\\\guna1.csv\")\n",
    " head(guna)\n",
    "barplot(table(guna$gunas),col=\"green\")"
   ]
  },
  {
   "cell_type": "code",
   "execution_count": 28,
   "metadata": {
    "vscode": {
     "languageId": "r"
    }
   },
   "outputs": [],
   "source": [
    "#xyplot(Apptitude ~ Attitude ,data=guna)\n",
    "\n",
    "\n",
    "#Library(lattice)\n",
    "#xyplot(Apptitude ~ Attitude | gunas,data=guna,layout=c(3,1))\n",
    "#Library(ggplot2)"
   ]
  },
  {
   "cell_type": "code",
   "execution_count": 30,
   "metadata": {
    "vscode": {
     "languageId": "r"
    }
   },
   "outputs": [
    {
     "data": {
      "image/png": "[encoded data removed]",
      "text/plain": [
       "plot without title"
      ]
     },
     "metadata": {
      "image/png": {
       "height": 420,
       "width": 420
      }
     },
     "output_type": "display_data"
    }
   ],
   "source": [
    "#qplot(Attitude,Apptitude,data=guna)\n",
    "boxplot(Attitude ~ Apptitude, guna,xlab=\"Attitude\",ylab=\"Apptitude\")"
   ]
  },
  {
   "cell_type": "code",
   "execution_count": null,
   "metadata": {
    "vscode": {
     "languageId": "r"
    }
   },
   "outputs": [],
   "source": [
    "\n",
    "\n",
    "#Base plot for annotation\n",
    "with(guna,plot(Attitude,Apptitude),main=\"Attitude Vs Apptitude\")\n",
    "with(subset(guna,gunas==\"Rajasic\"),points(Attitude,Apptitude,col=\"Blue\"))\n",
    " with(subset(guna,gunas==\"Sattvic\"),points(Attitude,Apptitude,col=\"Red\"))\n",
    " with(subset(guna,gunas==\"Tamasic\"),points(Attitude,Apptitude,col=\"Green\"))\n",
    "legend(\"bottomright\",pch=1,col=c(\"green\",\"blue\",\"red\"),legend=c(\"Tamasic\",\"Rajasic\",\"Sattvic\"))\n",
    "with(guna,plot(Attitude,Apptitude),main=\"Attitude Vs Apptitude\")\n",
    "model<-lm(Attitude ~ Apptitude,guna)\n",
    "abline(model,lwd=4)\n",
    "abline(model,lwd=2)\n",
    "\n",
    "library(lattice)\n",
    "xyplot(Attitude~Apptitude|Gender,data=guna,layout=c(3,1))\n",
    "xyplot(Attitude ~ Apptitude | gunas, guna,\n",
    "  group = Gender,\n",
    "       grid = TRUE,\n",
    "       scales = list(x = list(log = 10, equispaced.log = FALSE)))\n",
    "xyplot(Attitude ~ Apptitude | gunas, guna1,\n",
    "group = Gender, xlab=\"Attitude\", ylab=\"Apptitude\",\n",
    "pch=c(3,0), col=c(\"blue\", \"red\"), cex=0.5,\n",
    "main=\"Attitude vs Apptitude \",\n",
    "key=list(text=list(c(\"Female\", \"Male\")),\n",
    "points=list(pch=c(3,0), col=c(\"blue\", \"red\")), columns=2))\n",
    "xyplot( Number + Letter + Verbal + Logical+Non.Verbal +analytical ~Attitude , groups = Gender , outer =TRUE , data =guna1 , auto.key = list ( columns =2) )\n",
    "pdf(file=\"myplot1.pdf\")\n",
    "with(guna1,plot(Attitude,Apptitude))\n",
    "title(main=\"Attitude Vs Apptitude\")\n",
    "dev.off()\n",
    "set.seed(1234)\n",
    "par(mar = c(0, 0, 0, 0))\n",
    "x <- rnorm(12, mean = rep(1:3, each = 4), sd = 0.2)\n",
    "y <- rnorm(12, mean = rep(c(1, 2, 1), each = 4), sd = 0.2)\n",
    "plot(x, y, col = \"blue\", pch = 19, cex = 2)\n",
    "text(x + 0.05, y + 0.05, labels = as.character(1:12))\n",
    "dataFrame<- data.frame(x = x, y = y)\n",
    "dist(dataFrame)\n",
    "dataFrame<- data.frame(x = x, y = y)\n",
    "distxy<- dist(dataFrame)\n",
    "hClustering<- hclust(distxy)\n",
    "plot(hClustering)\n"
   ]
  },
  {
   "cell_type": "markdown",
   "metadata": {},
   "source": [
    "16.Analysis of variance (ANOVA)"
   ]
  },
  {
   "cell_type": "code",
   "execution_count": 31,
   "metadata": {
    "vscode": {
     "languageId": "r"
    }
   },
   "outputs": [
    {
     "name": "stdout",
     "output_type": "stream",
     "text": [
      "                  am  mpg  hp\n",
      "Mazda RX4          1 21.0 110\n",
      "Mazda RX4 Wag      1 21.0 110\n",
      "Datsun 710         1 22.8  93\n",
      "Hornet 4 Drive     0 21.4 110\n",
      "Hornet Sportabout  0 18.7 175\n",
      "Valiant            0 18.1 105\n",
      "            Df Sum Sq Mean Sq F value   Pr(>F)    \n",
      "hp           1  678.4   678.4  77.391 1.50e-09 ***\n",
      "am           1  202.2   202.2  23.072 4.75e-05 ***\n",
      "hp:am        1    0.0     0.0   0.001    0.981    \n",
      "Residuals   28  245.4     8.8                     \n",
      "---\n",
      "Signif. codes:  0 '***' 0.001 '**' 0.01 '*' 0.05 '.' 0.1 ' ' 1\n"
     ]
    }
   ],
   "source": [
    "input <- mtcars[,c(\"am\",\"mpg\",\"hp\")]\n",
    "print(head(input))\n",
    "input <- mtcars\n",
    "result <- aov(mpg~hp*am,data = input)\n",
    "print(summary(result))\n"
   ]
  },
  {
   "cell_type": "code",
   "execution_count": 32,
   "metadata": {
    "vscode": {
     "languageId": "r"
    }
   },
   "outputs": [
    {
     "name": "stdout",
     "output_type": "stream",
     "text": [
      "            Df Sum Sq Mean Sq F value   Pr(>F)    \n",
      "hp           1  678.4   678.4   80.15 7.63e-10 ***\n",
      "am           1  202.2   202.2   23.89 3.46e-05 ***\n",
      "Residuals   29  245.4     8.5                     \n",
      "---\n",
      "Signif. codes:  0 '***' 0.001 '**' 0.01 '*' 0.05 '.' 0.1 ' ' 1\n"
     ]
    }
   ],
   "source": [
    "input <- mtcars\n",
    "result <- aov(mpg~hp+am,data = input)\n",
    "print(summary(result))\n"
   ]
  },
  {
   "cell_type": "code",
   "execution_count": 33,
   "metadata": {
    "vscode": {
     "languageId": "r"
    }
   },
   "outputs": [
    {
     "name": "stdout",
     "output_type": "stream",
     "text": [
      "Analysis of Variance Table\n",
      "\n",
      "Model 1: mpg ~ hp * am\n",
      "Model 2: mpg ~ hp + am\n",
      "  Res.Df    RSS Df  Sum of Sq     F Pr(>F)\n",
      "1     28 245.43                           \n",
      "2     29 245.44 -1 -0.0052515 6e-04 0.9806\n"
     ]
    }
   ],
   "source": [
    "input <- mtcars\n",
    "result1 <- aov(mpg~hp*am,data = input)\n",
    "result2 <- aov(mpg~hp+am,data = input)\n",
    "print(anova(result1,result2))\n"
   ]
  },
  {
   "cell_type": "code",
   "execution_count": 34,
   "metadata": {
    "vscode": {
     "languageId": "r"
    }
   },
   "outputs": [
    {
     "name": "stdout",
     "output_type": "stream",
     "text": [
      "                     mpg cyl  disp  hp drat    wt  qsec vs am gear carb\n",
      "Mazda RX4           21.0   6 160.0 110 3.90 2.620 16.46  0  1    4    4\n",
      "Mazda RX4 Wag       21.0   6 160.0 110 3.90 2.875 17.02  0  1    4    4\n",
      "Datsun 710          22.8   4 108.0  93 3.85 2.320 18.61  1  1    4    1\n",
      "Hornet 4 Drive      21.4   6 258.0 110 3.08 3.215 19.44  1  0    3    1\n",
      "Hornet Sportabout   18.7   8 360.0 175 3.15 3.440 17.02  0  0    3    2\n",
      "Valiant             18.1   6 225.0 105 2.76 3.460 20.22  1  0    3    1\n",
      "Duster 360          14.3   8 360.0 245 3.21 3.570 15.84  0  0    3    4\n",
      "Merc 240D           24.4   4 146.7  62 3.69 3.190 20.00  1  0    4    2\n",
      "Merc 230            22.8   4 140.8  95 3.92 3.150 22.90  1  0    4    2\n",
      "Merc 280            19.2   6 167.6 123 3.92 3.440 18.30  1  0    4    4\n",
      "Merc 280C           17.8   6 167.6 123 3.92 3.440 18.90  1  0    4    4\n",
      "Merc 450SE          16.4   8 275.8 180 3.07 4.070 17.40  0  0    3    3\n",
      "Merc 450SL          17.3   8 275.8 180 3.07 3.730 17.60  0  0    3    3\n",
      "Merc 450SLC         15.2   8 275.8 180 3.07 3.780 18.00  0  0    3    3\n",
      "Cadillac Fleetwood  10.4   8 472.0 205 2.93 5.250 17.98  0  0    3    4\n",
      "Lincoln Continental 10.4   8 460.0 215 3.00 5.424 17.82  0  0    3    4\n",
      "Chrysler Imperial   14.7   8 440.0 230 3.23 5.345 17.42  0  0    3    4\n",
      "Fiat 128            32.4   4  78.7  66 4.08 2.200 19.47  1  1    4    1\n",
      "Honda Civic         30.4   4  75.7  52 4.93 1.615 18.52  1  1    4    2\n",
      "Toyota Corolla      33.9   4  71.1  65 4.22 1.835 19.90  1  1    4    1\n",
      "Toyota Corona       21.5   4 120.1  97 3.70 2.465 20.01  1  0    3    1\n",
      "Dodge Challenger    15.5   8 318.0 150 2.76 3.520 16.87  0  0    3    2\n",
      "AMC Javelin         15.2   8 304.0 150 3.15 3.435 17.30  0  0    3    2\n",
      "Camaro Z28          13.3   8 350.0 245 3.73 3.840 15.41  0  0    3    4\n",
      "Pontiac Firebird    19.2   8 400.0 175 3.08 3.845 17.05  0  0    3    2\n",
      "Fiat X1-9           27.3   4  79.0  66 4.08 1.935 18.90  1  1    4    1\n",
      "Porsche 914-2       26.0   4 120.3  91 4.43 2.140 16.70  0  1    5    2\n",
      "Lotus Europa        30.4   4  95.1 113 3.77 1.513 16.90  1  1    5    2\n",
      "Ford Pantera L      15.8   8 351.0 264 4.22 3.170 14.50  0  1    5    4\n",
      "Ferrari Dino        19.7   6 145.0 175 3.62 2.770 15.50  0  1    5    6\n",
      "Maserati Bora       15.0   8 301.0 335 3.54 3.570 14.60  0  1    5    8\n",
      "Volvo 142E          21.4   4 121.0 109 4.11 2.780 18.60  1  1    4    2\n",
      "Analysis of Variance Table\n",
      "\n",
      "Model 1: mpg ~ hp * cyl\n",
      "Model 2: mpg ~ hp + cyl\n",
      "  Res.Df    RSS Df Sum of Sq      F Pr(>F)  \n",
      "1     28 247.60                             \n",
      "2     29 291.98 -1   -44.375 5.0181 0.0332 *\n",
      "---\n",
      "Signif. codes:  0 '***' 0.001 '**' 0.01 '*' 0.05 '.' 0.1 ' ' 1\n"
     ]
    }
   ],
   "source": [
    "print(input)\n",
    "result1 <- aov(mpg~hp*cyl,data = input)\n",
    "result2 <- aov(mpg~hp+cyl,data = input)\n",
    "print(anova(result1,result2))\n"
   ]
  },
  {
   "cell_type": "code",
   "execution_count": 35,
   "metadata": {
    "vscode": {
     "languageId": "r"
    }
   },
   "outputs": [
    {
     "name": "stdout",
     "output_type": "stream",
     "text": [
      "Analysis of Variance Table\n",
      "\n",
      "Model 1: mpg ~ hp * cyl\n",
      "Model 2: mpg ~ hp + cyl\n",
      "  Res.Df    RSS Df Sum of Sq      F Pr(>F)  \n",
      "1     28 247.60                             \n",
      "2     29 291.98 -1   -44.375 5.0181 0.0332 *\n",
      "---\n",
      "Signif. codes:  0 '***' 0.001 '**' 0.01 '*' 0.05 '.' 0.1 ' ' 1\n"
     ]
    }
   ],
   "source": [
    "print(anova(result1,result2))"
   ]
  },
  {
   "cell_type": "markdown",
   "metadata": {},
   "source": [
    "17.Wilcox on signed-rank test"
   ]
  },
  {
   "cell_type": "code",
   "execution_count": 36,
   "metadata": {
    "vscode": {
     "languageId": "r"
    }
   },
   "outputs": [
    {
     "name": "stderr",
     "output_type": "stream",
     "text": [
      "Warning message in wilcox.test.default(myData$weight, mu = 25, alternative = \"less\"):\n",
      "\"cannot compute exact p-value with ties\"\n"
     ]
    },
    {
     "data": {
      "text/plain": [
       "\n",
       "\tWilcoxon signed rank test with continuity correction\n",
       "\n",
       "data:  myData$weight\n",
       "V = 55, p-value = 0.9979\n",
       "alternative hypothesis: true location is less than 25\n"
      ]
     },
     "metadata": {},
     "output_type": "display_data"
    },
    {
     "name": "stdout",
     "output_type": "stream",
     "text": [
      "Call:\n",
      "   aov(formula = mpg ~ hp + am, data = input)\n",
      "\n",
      "Terms:\n",
      "                      hp       am Residuals\n",
      "Sum of Squares  678.3729 202.2350  245.4393\n",
      "Deg. of Freedom        1        1        29\n",
      "\n",
      "Residual standard error: 2.909196\n",
      "Estimated effects may be unbalanced\n"
     ]
    }
   ],
   "source": [
    "set.seed(1234)\n",
    "myData = data.frame(\n",
    "name = paste0(rep(\"R_\", 10), 1:10),\n",
    "weight = round(rnorm(10, 30, 2), 1)\n",
    ")\n",
    "wilcox.test(myData$weight, mu = 25,\n",
    "alternative = \"less\")\n",
    "print(result)\n"
   ]
  },
  {
   "cell_type": "markdown",
   "metadata": {},
   "source": [
    "18.Time Series Analysis"
   ]
  },
  {
   "cell_type": "code",
   "execution_count": null,
   "metadata": {
    "vscode": {
     "languageId": "r"
    }
   },
   "outputs": [],
   "source": []
  },
  {
   "cell_type": "markdown",
   "metadata": {},
   "source": [
    "19.Decision Trees on any dataset"
   ]
  },
  {
   "cell_type": "code",
   "execution_count": 37,
   "metadata": {
    "vscode": {
     "languageId": "r"
    }
   },
   "outputs": [
    {
     "name": "stderr",
     "output_type": "stream",
     "text": [
      "Installing package into 'C:/Users/aravi/AppData/Local/R/win-library/4.3'\n",
      "(as 'lib' is unspecified)\n",
      "\n"
     ]
    },
    {
     "name": "stdout",
     "output_type": "stream",
     "text": [
      "package 'party' successfully unpacked and MD5 sums checked\n"
     ]
    },
    {
     "name": "stderr",
     "output_type": "stream",
     "text": [
      "Warning message:\n",
      "\"cannot remove prior installation of package 'party'\"\n",
      "Warning message in file.copy(savedcopy, lib, recursive = TRUE):\n",
      "\"problem copying C:\\Users\\aravi\\AppData\\Local\\R\\win-library\\4.3\\00LOCK\\party\\libs\\x64\\party.dll to C:\\Users\\aravi\\AppData\\Local\\R\\win-library\\4.3\\party\\libs\\x64\\party.dll: Permission denied\"\n",
      "Warning message:\n",
      "\"restored 'party'\"\n"
     ]
    },
    {
     "name": "stdout",
     "output_type": "stream",
     "text": [
      "\n",
      "The downloaded binary packages are in\n",
      "\tC:\\Users\\aravi\\AppData\\Local\\Temp\\RtmpSSgRzf\\downloaded_packages\n"
     ]
    },
    {
     "name": "stderr",
     "output_type": "stream",
     "text": [
      "Loading required package: grid\n",
      "\n",
      "Loading required package: mvtnorm\n",
      "\n",
      "Loading required package: modeltools\n",
      "\n",
      "Loading required package: stats4\n",
      "\n",
      "Loading required package: strucchange\n",
      "\n",
      "Loading required package: zoo\n",
      "\n",
      "\n",
      "Attaching package: 'zoo'\n",
      "\n",
      "\n",
      "The following objects are masked from 'package:base':\n",
      "\n",
      "    as.Date, as.Date.numeric\n",
      "\n",
      "\n",
      "Loading required package: sandwich\n",
      "\n"
     ]
    }
   ],
   "source": [
    "install.packages(\"party\")\n",
    "library(party)"
   ]
  },
  {
   "cell_type": "code",
   "execution_count": 38,
   "metadata": {
    "vscode": {
     "languageId": "r"
    }
   },
   "outputs": [
    {
     "name": "stdout",
     "output_type": "stream",
     "text": [
      "  nativeSpeaker age shoeSize    score\n",
      "1           yes   5 24.83189 32.29385\n",
      "2           yes   6 25.95238 36.63105\n",
      "3            no  11 30.42170 49.60593\n",
      "4           yes   7 28.66450 40.28456\n",
      "5           yes  11 31.88207 55.46085\n",
      "6           yes  10 30.07843 52.83124\n",
      "  nativeSpeaker age shoeSize    score\n",
      "1           yes   5 24.83189 32.29385\n",
      "2           yes   6 25.95238 36.63105\n",
      "3            no  11 30.42170 49.60593\n",
      "4           yes   7 28.66450 40.28456\n",
      "5           yes  11 31.88207 55.46085\n",
      "6           yes  10 30.07843 52.83124\n"
     ]
    },
    {
     "data": {
      "image/png": "[encoded data removed]",
      "text/plain": [
       "plot without title"
      ]
     },
     "metadata": {
      "image/png": {
       "height": 420,
       "width": 420
      }
     },
     "output_type": "display_data"
    }
   ],
   "source": [
    "\n",
    "print(head(readingSkills))\n",
    "library(party)\n",
    "print(head(readingSkills))\n",
    "input.dat <- readingSkills[c(1:105),]\n",
    "output.tree<- ctree(\n",
    "nativeSpeaker ~ age + shoeSize + score, \n",
    "  data = input.dat)\n",
    "plot(output.tree)\n"
   ]
  },
  {
   "cell_type": "markdown",
   "metadata": {},
   "source": [
    "20.Random Forest using Titatnic dataset\n",
    "\n"
   ]
  },
  {
   "cell_type": "code",
   "execution_count": 40,
   "metadata": {
    "vscode": {
     "languageId": "r"
    }
   },
   "outputs": [],
   "source": [
    "#install.packages(\"randomForest\")\n",
    "#install.packages(\"titanic\")"
   ]
  },
  {
   "cell_type": "code",
   "execution_count": 41,
   "metadata": {
    "vscode": {
     "languageId": "r"
    }
   },
   "outputs": [
    {
     "name": "stdout",
     "output_type": "stream",
     "text": [
      ", , Age = Child, Survived = No\n",
      "\n",
      "      Sex\n",
      "Class  Male Female\n",
      "  1st     0      0\n",
      "  2nd     0      0\n",
      "  3rd    35     17\n",
      "  Crew    0      0\n",
      "\n",
      ", , Age = Adult, Survived = No\n",
      "\n",
      "      Sex\n",
      "Class  Male Female\n",
      "  1st   118      4\n",
      "  2nd   154     13\n",
      "  3rd   387     89\n",
      "  Crew  670      3\n",
      "\n",
      ", , Age = Child, Survived = Yes\n",
      "\n",
      "      Sex\n",
      "Class  Male Female\n",
      "  1st     5      1\n",
      "  2nd    11     13\n",
      "  3rd    13     14\n",
      "  Crew    0      0\n",
      "\n",
      ", , Age = Adult, Survived = Yes\n",
      "\n",
      "      Sex\n",
      "Class  Male Female\n",
      "  1st    57    140\n",
      "  2nd    14     80\n",
      "  3rd    75     76\n",
      "  Crew  192     20\n",
      "\n"
     ]
    },
    {
     "name": "stderr",
     "output_type": "stream",
     "text": [
      "randomForest 4.7-1.1\n",
      "\n",
      "Type rfNews() to see new features/changes/bug fixes.\n",
      "\n"
     ]
    },
    {
     "name": "stdout",
     "output_type": "stream",
     "text": [
      "\n",
      "Call:\n",
      " randomForest(formula = Class ~ Sex, data = Titanic) \n",
      "               Type of random forest: classification\n",
      "                     Number of trees: 500\n",
      "No. of variables tried at each split: 1\n",
      "\n",
      "        OOB estimate of  error rate: 100%\n",
      "Confusion matrix:\n",
      "     1st 2nd 3rd Crew class.error\n",
      "1st    0   1   2    5           1\n",
      "2nd    8   0   0    0           1\n",
      "3rd    4   3   0    1           1\n",
      "Crew   5   3   0    0           1\n",
      "    MeanDecreaseGini\n",
      "Sex        0.7376887\n"
     ]
    }
   ],
   "source": [
    "\n",
    "library(titanic)\n",
    "print(head(Titanic))\n",
    "library(randomForest)\n",
    "output.forest<- randomForest(Class ~Sex, data = Titanic)\n",
    "print(output.forest) \n",
    "print(importance(output.forest,type = 2))\n"
   ]
  },
  {
   "cell_type": "markdown",
   "metadata": {},
   "source": [
    "21 Survival analysis"
   ]
  },
  {
   "cell_type": "code",
   "execution_count": 44,
   "metadata": {
    "vscode": {
     "languageId": "r"
    }
   },
   "outputs": [],
   "source": [
    "install.packages(\"survival\")\n",
    "library(\"survival\")"
   ]
  },
  {
   "cell_type": "code",
   "execution_count": 45,
   "metadata": {
    "vscode": {
     "languageId": "r"
    }
   },
   "outputs": [
    {
     "name": "stdout",
     "output_type": "stream",
     "text": [
      "  id time status trt      age sex ascites hepato spiders edema bili chol\n",
      "1  1  400      2   1 58.76523   f       1      1       1   1.0 14.5  261\n",
      "2  2 4500      0   1 56.44627   f       0      1       1   0.0  1.1  302\n",
      "3  3 1012      2   1 70.07255   m       0      0       0   0.5  1.4  176\n",
      "4  4 1925      2   1 54.74059   f       0      1       1   0.5  1.8  244\n",
      "5  5 1504      1   2 38.10541   f       0      1       1   0.0  3.4  279\n",
      "6  6 2503      2   2 66.25873   f       0      1       0   0.0  0.8  248\n",
      "  albumin copper alk.phos    ast trig platelet protime stage\n",
      "1    2.60    156   1718.0 137.95  172      190    12.2     4\n",
      "2    4.14     54   7394.8 113.52   88      221    10.6     3\n",
      "3    3.48    210    516.0  96.10   55      151    12.0     4\n",
      "4    2.54     64   6121.8  60.63   92      183    10.3     4\n",
      "5    3.53    143    671.0 113.15   72      136    10.9     3\n",
      "6    3.98     50    944.0  93.00   63       NA    11.0     3\n"
     ]
    },
    {
     "data": {
      "text/plain": [
       "Call: survfit(formula = Surv(pbc$time, pbc$status == 2) ~ 1)\n",
       "\n",
       "       n events median 0.95LCL 0.95UCL\n",
       "[1,] 418    161   3395    3090    3853"
      ]
     },
     "metadata": {},
     "output_type": "display_data"
    },
    {
     "data": {
      "image/png": "[encoded data removed]",
      "text/plain": [
       "plot without title"
      ]
     },
     "metadata": {
      "image/png": {
       "height": 420,
       "width": 420
      }
     },
     "output_type": "display_data"
    }
   ],
   "source": [
    "\n",
    "print(head(pbc))\n",
    "library(\"survival\")\n",
    "survfit(Surv(pbc$time,pbc$status == 2)~1)\n",
    "plot(survfit(Surv(pbc$time,pbc$status == 2)~1))\n"
   ]
  },
  {
   "cell_type": "markdown",
   "metadata": {},
   "source": []
  },
  {
   "cell_type": "code",
   "execution_count": null,
   "metadata": {
    "vscode": {
     "languageId": "r"
    }
   },
   "outputs": [],
   "source": []
  }
 ],
 "metadata": {
  "kernelspec": {
   "display_name": "R",
   "language": "R",
   "name": "ir"
  },
  "language_info": {
   "codemirror_mode": "r",
   "file_extension": ".r",
   "mimetype": "text/x-r-source",
   "name": "R",
   "pygments_lexer": "r",
   "version": "4.3.1"
  }
 },
 "nbformat": 4,
 "nbformat_minor": 2
}
