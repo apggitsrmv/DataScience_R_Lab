{
 "cells": [
  {
   "cell_type": "markdown",
   "metadata": {},
   "source": [
    "11. Create data files having name, age, DoJ, DoR, emp code,salary in\n",
    "json,xml,xls.Merge all those files as a single file into an xls file."
   ]
  },
  {
   "cell_type": "code",
   "execution_count": null,
   "metadata": {},
   "outputs": [],
   "source": [
    "install.packages(\"jsonlite\")\n",
    "install.packages(\"xlsx\")\n",
    "install.packages(\"XML\")\n",
    "#A) How will you merge these two tables to create a single table\n",
    "library(XML)\n",
    "library(xlsx)\n",
    "library(jsonlite)\n",
    "getwd()\n",
    "# Read data from JSON files\n",
    "#data <- read_json(\"employee1.json\")\n",
    "#print(data)\n",
    "df1 <- fromJSON(\"employee1.json\")\n",
    "df2 <- fromJSON(\"employee2.json\")\n",
    "# Print the data frame\n",
    "xml_fileF<- \"employee1.xml\"\n",
    "xml_fileS<- \"employee2.xml\"\n",
    "docF <- xmlParse(xml_fileF)\n",
    "docS <- xmlParse(xml_fileS)\n",
    "# Read data from XML files\n",
    "df3 <- xmlToDataFrame(docF)\n",
    "df4 <- xmlToDataFrame(docS)\n",
    "#print(data_xmlF)\n",
    "#print(data_xmlS)\n",
    "# Read data from Excel files\n",
    "library(xlsx)\n",
    "df5 <- read.xlsx(\"employees1.xlsx\", sheetName = \"Sheet1\")\n",
    "df6 <- read.xlsx(\"employees2.xlsx\", sheetName = \"Sheet1\")\n",
    "print(df1)\n",
    "print(df2)\n",
    "print(df3)\n",
    "print(df4)\n",
    "print(df5)\n",
    "print(df6)\n",
    "# Concatenate data frames using rbind\n",
    "merged_data <- rbind(df1, df2, df3,df4, df5, df6)\n",
    "print(merged_data)\n",
    "# Merge data from all sources into a single data frame\n",
    "merged_data <- rbind(data_jsonF, data_jsonS, data_xmlF, data_xmlS,\n",
    "data_excelF, data_excelS)\n",
    "print(merged_data)\n",
    "# Save the merged data to a new Excel file\n",
    "write.xlsx(merged_data, \"merged_employees2.xlsx\", sheetName =\n",
    "\"Sheet1\", row.names = FALSE)"
   ]
  },
  {
   "cell_type": "code",
   "execution_count": null,
   "metadata": {},
   "outputs": [],
   "source": [
    "#B) Print those who are receiving salary greater than 5000\n",
    "high_salary_employees <- merged_data[merged_data$Salary > 5000, ]\n",
    "print(high_salary_employees)"
   ]
  },
  {
   "cell_type": "code",
   "execution_count": null,
   "metadata": {},
   "outputs": [],
   "source": [
    "#C) Print those who are receiving salary in between 1000 and 10000\n",
    "medium_salary_employees <- merged_data[merged_data$Salary >=\n",
    "1000 & merged_data$Salary <= 10000]\n",
    "print(medium_salary_employees)"
   ]
  },
  {
   "cell_type": "code",
   "execution_count": null,
   "metadata": {},
   "outputs": [],
   "source": [
    "\n",
    "#D) Print those employees whose age is greater than 50\n",
    "older_employees <- merged_data[merged_data$Age > 30, ]\n",
    "print(older_employees)"
   ]
  },
  {
   "cell_type": "code",
   "execution_count": null,
   "metadata": {},
   "outputs": [],
   "source": [
    "#E) Print those employees who have joined the company in less than one year\n",
    "# Convert Date of Joining (Doj) and Date of Resignation (DoR) to Date\n",
    "objects\n",
    "merged_data$Doj <- as.Date(merged_data$Doj, format=\"%Y-%m-%d\")\n",
    "merged_data$DoR <- as.Date(merged_data$DoR,\n",
    "format=\"%Y-%m-%d\")\n",
    "print(merged_data$Doj)\n",
    "# Calculate the duration of employment in days\n",
    "merged_data$employment_duration <-\n",
    "as.numeric(difftime(merged_data$DoR, merged_data$Doj, units =\n",
    "\"days\"))\n",
    "# Filter employees who have worked for less than one year (365 days)\n",
    "less_than_one_year_employees <-\n",
    "merged_data[merged_data$employment_duration < 365, ]\n",
    "print(less_than_one_year_employees)"
   ]
  },
  {
   "cell_type": "markdown",
   "metadata": {},
   "source": [
    "12. Mean, Median, Mode and Standard Deviation"
   ]
  },
  {
   "cell_type": "code",
   "execution_count": null,
   "metadata": {},
   "outputs": [],
   "source": [
    "#Mean\n",
    "x <- c(12,7,3,4.2,18,2,54,-21,8,-5)\n",
    "mean(x)\n",
    "result.mean <- mean(x)\n",
    "print(result.mean)\n",
    "mean1<-mean(x,trim=0.1)\n",
    "print(mean1)\n",
    "x<-c(3,4.2,7,8)\n",
    "mean(x)\n",
    "x <- c(12,7,3,4.2,18,2,54,-21,8,-5)\n",
    "result.mean <- mean(x,trim = 0.3)\n",
    "print(result.mean)\n",
    "#Median\n",
    "x<-c(-21,-5,2,3,4.2,7.89876,8,12,18,54,78)\n",
    "median.result <- median(x)\n",
    "print(median.result)\n",
    "t=median(x)/3\n",
    "median.result<-median(t,trim=0.3)\n",
    "print(median.result)\n",
    "#Mode\n",
    "getmode <- function(v) {\n",
    "uniqv <- unique(v)\n",
    "print(unique(v))\n",
    "print(tabulate(match(v, uniqv)))\n",
    "uniqv[which.max(tabulate(match(v, uniqv)))]\n",
    "}\n",
    "v <- c(2,1,2,3,1,2,3,4,1,5,5,3,2,3)\n",
    "unique(v)\n",
    "tabulate(match(v,unique(v)))\n",
    "result <- getmode(v)\n",
    "print(result)\n",
    "charv <- c(\"o\",\"it\",\"the\",\"it\",\"it\")\n",
    "print(charv)\n",
    "print(unique(charv))\n",
    "print(tabulate(match(charv, unique(charv))))\n",
    "result <- getmode(charv)\n",
    "print(result)\n",
    "#Standard Deviation\n",
    "v <- c(2,1,2,3,1,2,3,4,1,5,5,3,2,3)\n",
    "standard_deviation <- sd(v)\n",
    "print(paste(\"Standard Deviation: \", standard_deviation))"
   ]
  },
  {
   "cell_type": "markdown",
   "metadata": {},
   "source": [
    "13. Input XLS file and find the Mean, Median, and Mode"
   ]
  },
  {
   "cell_type": "code",
   "execution_count": null,
   "metadata": {},
   "outputs": [],
   "source": [
    "install.packages(\"xlsx\")\n",
    "library(xlsx)\n",
    "excel_file <- \"input.xlsx\"\n",
    "data <- read.xlsx(excel_file, sheetIndex = 1)\n",
    "print(data)\n",
    "column_name <- \"salary\"\n",
    "column_mean <- mean(data[[column_name]], na.rm = TRUE)\n",
    "cat(\"Mean of\", column_name, \"is:\", column_mean, \"\\n\")\n",
    "column_median <- median(data[[column_name]], na.rm = TRUE)\n",
    "cat(\"Median of\", column_name, \"is:\", column_median, \"\\n\")\n",
    "column_mode <- as.numeric(names(sort(table(data[[column_name]]),\n",
    "decreasing = TRUE)[1]))\n",
    "cat(\"Mode of\", column_name, \"is:\", column_mode, \"\\n\")"
   ]
  },
  {
   "cell_type": "markdown",
   "metadata": {},
   "source": [
    "14. Correlation without using builtin function"
   ]
  },
  {
   "cell_type": "code",
   "execution_count": null,
   "metadata": {},
   "outputs": [],
   "source": [
    "x <- c(10, 12, 14)\n",
    "y <- c(11, 13, 24)\n",
    "n <- length(x)\n",
    "sumx <- sum(x)\n",
    "sumy <- sum(y)\n",
    "sumxy <- sum(x * y)\n",
    "sumxx <- sum(x*x)\n",
    "sumyy <- sum(y*y)\n",
    "r <- (n * sumxy - sumx * sumy) / sqrt((n * sumxx - sumx * sumx) * (n *\n",
    "sumyy - sumy * sumy))\n",
    "print(paste(\"Mathematical method Correlation coefficient (r):\", r))"
   ]
  },
  {
   "cell_type": "markdown",
   "metadata": {},
   "source": [
    "15.Linear Regression using dataset"
   ]
  },
  {
   "cell_type": "code",
   "execution_count": null,
   "metadata": {},
   "outputs": [],
   "source": [
    "# Apply the lm() function.\n",
    "x<-c(1,2,3,4,5)\n",
    "y<-c(2,4,6,8,10)\n",
    "#Create Relationship Model & get the Coefficients\n",
    "relation <- lm(y~x)\n",
    "print(relation)\n",
    "print(summary(relation))\n",
    "plot(x,y,col = \"blue\",main = \"Month and Trips Regression\",\n",
    "abline(lm(y~x)),cex = 1.9,pch = 20,xlab = \"Month\",ylab = \"Trips in Kms\")\n",
    "a <- data.frame(x =30)\n",
    "result <- predict(relation,a)\n",
    "print(result)\n",
    "relation<-lm(x~y)\n",
    "print(relation)\n",
    "print(summary(relation))\n",
    "plot(y,x,col = \"blue\",main = \"Month and Trips Regression\",\n",
    "abline(lm(x~y)),cex = 1.9,pch = 20,xlab = \"Month\",ylab = \"Trips in Kms\")\n",
    "x <- c(151, 174, 138, 186, 128, 136, 179, 163, 152, 131)\n",
    "y <- c(63, 81, 56, 91, 47, 57, 76, 72, 62, 48)\n",
    "# Apply the lm() function.\n",
    "relation <- lm(y~x)\n",
    "print(relation)\n",
    "plot(x,y,col = \"blue\",main = \"Height and weight Regression\",\n",
    "abline(lm(y~x)),cex = 1.9,pch = 20,xlab = \"Height\",ylab = \"Weight\")\n",
    "a <- data.frame(x = 170)\n",
    "result <- predict(relation,a)\n",
    "print(result)\n",
    "x <- c(151, 174, 138, 186, 128, 136, 179, 163, 152, 131)\n",
    "y <- c(63, 81, 56, 91, 47, 57, 76, 72, 62, 48)\n",
    "relation <- lm(y~x)\n",
    "# Plot the chart.\n",
    "plot(x,y,col = \"blue\",main = \"Height & Weight Regression\",\n",
    "abline(lm(y~x)),cex = 1.9,pch = 20,xlab = \"Height in Kg\",ylab = \"Weight in\n",
    "cm\")\n",
    "#read data from csv files\n",
    "setwd(\"e:/MCA/Unit iv\")\n",
    "data=read.csv(\"winequality-red.csv\")\n",
    "x<-data$fixed.acidity\n",
    "y<-data$residual.sugar\n",
    "relation <- lm(y~x)\n",
    "print(relation)\n",
    "plot(x,y,col = \"blue\",main = \"Acidity & Quality\",\n",
    "abline(lm(y~x)),cex = 1.9,pch = 20,xlab = \"Acidity\",ylab = \"Quality\")"
   ]
  },
  {
   "cell_type": "markdown",
   "metadata": {},
   "source": [
    "16.Multiple Linear Regression using dataset"
   ]
  },
  {
   "cell_type": "code",
   "execution_count": null,
   "metadata": {},
   "outputs": [],
   "source": [
    "mtcars\n",
    "print(mtcars)\n",
    "input <- mtcars[,c(\"mpg\",\"disp\",\"hp\",\"wt\")]\n",
    "print(head(input))\n",
    "input <- mtcars[,c(\"mpg\",\"disp\",\"hp\",\"wt\")]\n",
    "model <- lm(mpg~disp+hp+wt, data = input)\n",
    "print(summary(model))\n",
    "a <- coef(model)[1]\n",
    "print(a)\n",
    "Xdisp <- coef(model)[2]\n",
    "Xhp <- coef(model)[3]\n",
    "Xwt <- coef(model)[4]\n",
    "print(Xdisp)\n",
    "print(Xhp)\n",
    "print(Xwt)\n",
    "print(summary(model))\n",
    "paste(\"y=\",a,\"+\",Xdisp,\"*x1\",\"+\",Xhp,\"*x2\",\"+\",Xwt,\"*x3\")\n",
    "#Y = 37.15+(-0.000937)*221+(-0.0311)*102+(-3.8008)*2.91 = 22.7104\n",
    "disp=221\n",
    "hp=102\n",
    "wt=2.91\n",
    "#print(37.10-0.0009*221-0.0311*102-3.8008*2.91)\n",
    "a1 <- data.frame(disp,hp,wt)\n",
    "result <- predict(model,a1)\n",
    "print(result)\n",
    "x1<-c(2,3,4,5)\n",
    "x2<-c(4,5,1,5)\n",
    "x3<-c(3,4,7,5)\n",
    "y<-c(2,7,5,4)\n",
    "input<-list(c(y),c(x1),c(x2),c(x3))\n",
    "print(input)\n",
    "model<-lm(y~x1+x2+x3,data=input)\n",
    "print(summary(model))\n",
    "a <- coef(model)[1]\n",
    "print(a)\n",
    "x1 <- coef(model)[2]\n",
    "x2 <- coef(model)[3]\n",
    "x3 <- coef(model)[4]\n",
    "paste(\"y=\",a,\"+\",x1,\"*x1\",\"+\",x2,\"*x2\",\"+\",x3,\"*x3\")\n",
    "a1 <- data.frame(x1 = 2,x2=4,x3=4)\n",
    "result <- predict(model,a1)\n",
    "print(result)\n",
    "setwd(\"e:/MCA/Unit iv\")\n",
    "data=read.csv(\"winequality-red.csv\")\n",
    "x1<-data$fixed.acidity\n",
    "x2<-data$volatile.acidity\n",
    "x3<-data$citric.acid\n",
    "x4<-data$residual.sugar\n",
    "x5<-data$free.sulfur.dioxide\n",
    "x6<-data$total.sulfur.dioxide\n",
    "x7<-data$density\n",
    "x8<-data$pH\n",
    "x9<-data$sulphates\n",
    "x10<-data$chlorides\n",
    "x11=data$alcohol\n",
    "y<-data$quality\n",
    "model=lm(y~x1+x2+x3+x4+x5+x6+x7+x8+x9+x10+x11)\n",
    "print(summary(model))\n",
    "paste(\"y=\",a,\"+\",x1,\"*x1\",\"+\",x2,\"*x2\",\"+\",x3,\"*x3\", \"+\",x4,\"*x4\")\n",
    "#6.3 0.51 0.13 2.3 0.076 29 40 0.99574 3.42 0.75 11\n",
    "a1 <- data.frame (x1=6.3, x2=0.51, x3=0.13, x4=2.3, x10=0.076, x5=29,\n",
    "x6=40, x7=0.99574, x8=3.42, x9=0.75, x11=11)\n",
    "result <- predict(model,a1)\n",
    "print(result)\n",
    "input <- data [, c(\"fixed.acidity\", \"volatile.acidity\", \"citric.acid\",\n",
    "\"residual.sugar\", \"quality\")]\n",
    "model <- lm (quality~fixed.acidity + volatile.acidity + citric.acid +\n",
    "residual.sugar, data = input)"
   ]
  },
  {
   "cell_type": "markdown",
   "metadata": {},
   "source": [
    "17. Logistic Regression"
   ]
  },
  {
   "cell_type": "code",
   "execution_count": null,
   "metadata": {},
   "outputs": [],
   "source": [
    "mtcars\n",
    "# Select some columns form mtcars.\n",
    "input <- mtcars[,c(\"am\",\"cyl\",\"hp\",\"wt\")]\n",
    "print(head(input))\n",
    "input <- mtcars[,c(\"am\",\"cyl\",\"hp\",\"wt\")]\n",
    "am.data = glm(formula = am ~ cyl + hp + wt, data = input, family =\n",
    "binomial)\n",
    "print(summary(am.data))"
   ]
  },
  {
   "cell_type": "markdown",
   "metadata": {},
   "source": [
    "18.Poisson Regression"
   ]
  },
  {
   "cell_type": "code",
   "execution_count": null,
   "metadata": {},
   "outputs": [],
   "source": [
    "input <- warpbreaks\n",
    "print(head(input))\n",
    "output <-glm(formula = breaks ~ wool+tension, data = warpbreaks,\n",
    "family = poisson)\n",
    "print(summary(output))\n",
    "output1 <-glm(formula = breaks ~ wool+tension, data = warpbreaks,\n",
    "family = quasipoisson(link=\"log\"))\n",
    "print(summary(output1))\n",
    "mtcars\n",
    "input <- mtcars[,c(\"am\",\"cyl\",\"hp\",\"wt\")]\n",
    "print(head(input))\n",
    "input <- mtcars[,c(\"am\",\"cyl\",\"hp\",\"wt\")]\n",
    "am.data = glm(formula = am ~ cyl + hp + wt, data = input, family = poisson)\n",
    "print(summary(am.data))"
   ]
  },
  {
   "cell_type": "markdown",
   "metadata": {},
   "source": [
    "19. Non-Linear regression"
   ]
  },
  {
   "cell_type": "code",
   "execution_count": null,
   "metadata": {},
   "outputs": [],
   "source": [
    "xvalues <- c(1.6,2.1,2,2.23,3.71,3.25,3.4,3.86,1.19,2.21)\n",
    "yvalues <- c(5.19,7.43,6.94,8.11,18.75,14.88,16.06,19.12,3.21,7.58)\n",
    "plot(xvalues,yvalues)\n",
    "#linear Regression\n",
    "plot(xvalues,yvalues,col = \"blue\",main = \"Regression\",\n",
    "abline (lm (yvalues~xvalues)), cex = 1.9,pch = 20,xlab = \"Xvalues\",ylab\n",
    "= \"YValues\")\n",
    "model <- nls(yvalues ~ b1*xvalues^2+b2,start = list(b1 = 10,b2 = 10))\n",
    "print(summary(model))\n",
    "new.data <- data.frame(xvalues = seq(min(xvalues),max(xvalues), len =\n",
    "100))\n",
    "print(new.data)\n",
    "lines(new.data$xvalues,predict(model,newdata = new.data))\n",
    "print(sum(resid(model)^2))\n",
    "print(confint(model))"
   ]
  }
 ],
 "metadata": {
  "language_info": {
   "name": "python"
  }
 },
 "nbformat": 4,
 "nbformat_minor": 2
}
