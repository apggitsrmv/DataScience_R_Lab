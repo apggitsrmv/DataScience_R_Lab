{
 "cells": [
  {
   "cell_type": "code",
   "execution_count": null,
   "metadata": {},
   "outputs": [],
   "source": [
    "# Load the mtcars dataset\n",
    "data(mtcars)\n",
    "\n",
    "# Display the first few rows of the dataset\n",
    "head(mtcars)\n",
    "\n",
    "# Summary statistics of the dataset\n",
    "summary(mtcars)\n",
    "\n",
    "# Structure of the dataset\n",
    "str(mtcars)\n",
    "\n",
    "# Fit a linear regression model\n",
    "lm_model <- lm(mpg ~ hp, data = mtcars)\n",
    "\n",
    "# Summarize the linear regression model\n",
    "summary(lm_model)\n",
    "\n",
    "# Predict mpg for a new car with 150 hp\n",
    "new_data <- data.frame(hp = 150)\n",
    "predicted_mpg <- predict(lm_model, newdata = new_data)\n",
    "\n",
    "# Print the predicted mpg\n",
    "print(paste(\"Predicted MPG for a car with 150 hp:\", predicted_mpg))\n"
   ]
  }
 ],
 "metadata": {
  "kernelspec": {
   "display_name": "base",
   "language": "python",
   "name": "python3"
  },
  "language_info": {
   "codemirror_mode": {
    "name": "ipython",
    "version": 3
   },
   "file_extension": ".py",
   "mimetype": "text/x-python",
   "name": "python",
   "nbconvert_exporter": "python",
   "pygments_lexer": "ipython3",
   "version": "3.7.6"
  }
 },
 "nbformat": 4,
 "nbformat_minor": 2
}
