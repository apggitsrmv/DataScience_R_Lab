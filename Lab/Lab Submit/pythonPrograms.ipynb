{
 "cells": [
  {
   "cell_type": "markdown",
   "metadata": {},
   "source": [
    "26. Wilcox on signed-rank test"
   ]
  },
  {
   "cell_type": "code",
   "execution_count": 5,
   "metadata": {},
   "outputs": [
    {
     "name": "stdout",
     "output_type": "stream",
     "text": [
      "WilcoxonResult(statistic=17.0, pvalue=0.0478515625)\n",
      "There is significance between x and y\n",
      "WilcoxonResult(statistic=2234.5, pvalue=0.0014107333565442858)\n",
      "There is significance between x and y\n"
     ]
    }
   ],
   "source": [
    "from scipy import stats\n",
    "import pandas as pd\n",
    "x=[18.3,13.3,16.5,12.8,9.5,13.6,8.1,8.9,10,8.3,7.9,8.1,13.4]\n",
    "y=[12.7,11.1,15.3,12.7,10.5,15.6,11.2,14.2,16.2,15.5,19.9,20.4,36.1]\n",
    "t=stats.wilcoxon(x,y)\n",
    "print(t)\n",
    "if(t[1]>0.05):\n",
    "    print(\"There is no difference between x and y\")\n",
    "else:\n",
    "    print(\"There is significance between x and y\")\n",
    "df = pd.read_csv(\"blood_pressure1.csv\")\n",
    "#print(df.describe())\n",
    "x=df['bp_before']\n",
    "y=df['bp_after']\n",
    "t=stats.wilcoxon(x,y)\n",
    "print(stats.wilcoxon(x, y))\n",
    "#print(df[['bp_before','bp_after']].describe())\n",
    "if(t[1]>0.05):\n",
    "    print(\"There is no difference between x and y\")\n",
    "else:\n",
    "    print(\"There is significance between x and y\")"
   ]
  },
  {
   "cell_type": "markdown",
   "metadata": {},
   "source": [
    "31 Mathematical functions using Numpy"
   ]
  },
  {
   "cell_type": "code",
   "execution_count": null,
   "metadata": {},
   "outputs": [],
   "source": []
  },
  {
   "cell_type": "markdown",
   "metadata": {},
   "source": [
    "32 Data analytics using Pandas"
   ]
  },
  {
   "cell_type": "code",
   "execution_count": null,
   "metadata": {},
   "outputs": [],
   "source": []
  },
  {
   "cell_type": "markdown",
   "metadata": {},
   "source": [
    "33 Visual representations using Matplotlib"
   ]
  },
  {
   "cell_type": "code",
   "execution_count": null,
   "metadata": {},
   "outputs": [],
   "source": []
  },
  {
   "cell_type": "markdown",
   "metadata": {},
   "source": [
    "34 Normal distribution to evaluate fitness of data"
   ]
  },
  {
   "cell_type": "code",
   "execution_count": null,
   "metadata": {},
   "outputs": [],
   "source": []
  }
 ],
 "metadata": {
  "kernelspec": {
   "display_name": "Python 3",
   "language": "python",
   "name": "python3"
  },
  "language_info": {
   "codemirror_mode": {
    "name": "ipython",
    "version": 3
   },
   "file_extension": ".py",
   "mimetype": "text/x-python",
   "name": "python",
   "nbconvert_exporter": "python",
   "pygments_lexer": "ipython3",
   "version": "3.12.0"
  }
 },
 "nbformat": 4,
 "nbformat_minor": 2
}
