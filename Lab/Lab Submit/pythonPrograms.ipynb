{
 "cells": [
  {
   "cell_type": "markdown",
   "metadata": {},
   "source": [
    "26. Wilcox on signed-rank test"
   ]
  },
  {
   "cell_type": "code",
   "execution_count": null,
   "metadata": {},
   "outputs": [],
   "source": [
    "from scipy import stats\n",
    "import pandas as pd\n",
    "x=[18.3,13.3,16.5,12.8,9.5,13.6,8.1,8.9,10,8.3,7.9,8.1,13.4]\n",
    "y=[12.7,11.1,15.3,12.7,10.5,15.6,11.2,14.2,16.2,15.5,19.9,20.4,36.1]\n",
    "t=stats.wilcoxon(x,y)\n",
    "print(t)\n",
    "if (t[1]>0.05):\n",
    "print(\"There is no difference between x and y\")\n",
    "else:\n",
    "print(\"There is significance between x and y\")\n",
    "df = pd.read_csv(\"/content/drive/MyDrive/blood_pressure1.csv\")\n",
    "#print(df.describe())\n",
    "x=df['bp_before']\n",
    "y=df['bp_after']\n",
    "t=stats.wilcoxon(x,y)\n",
    "print(stats.wilcoxon(x, y))\n",
    "#print(df[['bp_before','bp_after']].describe())\n",
    "if (t[1]>0.05):\n",
    "print(\"There is no difference between x and y\")\n",
    "else:\n",
    "print(\"There is significance between x and y\")"
   ]
  }
 ],
 "metadata": {
  "language_info": {
   "name": "python"
  }
 },
 "nbformat": 4,
 "nbformat_minor": 2
}
