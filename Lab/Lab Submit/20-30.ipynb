{
 "cells": [
  {
   "cell_type": "markdown",
   "metadata": {},
   "source": [
    "20.Charts and Graphs\n",
    "a) Bar Chart"
   ]
  },
  {
   "cell_type": "code",
   "execution_count": null,
   "metadata": {},
   "outputs": [],
   "source": [
    "H <- c(7,12,28,3,41)\n",
    "barplot(H)\n",
    "#setwd(\"E:/MCA/unit III\")\n",
    "H <- c(9,13,21,8,36,22,12,41,31,33,19)\n",
    "barplot(H)\n",
    "H <- c(7,12,28,3,41)\n",
    "M <- c(\"Mar\",\"Apr\",\"May\",\"Jun\",\"Jul\")\n",
    "barplot(H,names.arg=M,xlab=\"Month\",ylab=\"Revenue\",col=\"red\",\n",
    "main=\"Revenue chart\",border=\"blue\")\n",
    "barplot(H,names.arg=M,xlab=\"Month\",ylab=\"Revenue\",col=\"green\",main=\"\n",
    "Revenue Chart\",border=\"red\")\n",
    "H<-c(12,14,15,16,11,23,11,14,26,28,29,12)\n",
    "M<-c(\"Jan\",\"Feb\",\"Mar\",\"Apr\",\"May\",\"Jun\",\"Jul\",\"Aug\",\"Sep\",\"Oct\",\"Nov\n",
    "\",\"Dec\")\n",
    "barplot(H,names.arg = M)\n",
    "barplot(H,names.arg=M,xlab=\"Month\",ylab=\"Rainfall\",col=\"red\",main=\"Ra\n",
    "infall Vs Month\",border=\"blue\")\n",
    "barplot(H,names.arg=M,xlab=\"Month\",ylab=\"Rainfall\",main=\"Rainfall Vs\n",
    "Month\",col=\"red\",border=\"blue\")\n",
    "barplot(xlab=\"Month\",ylab=\"Rainfall\",main=\"Rainfall Vs\n",
    "Month\",col=\"red\",border=\"blue\",H,names.arg = M)\n",
    "dev.off()\n",
    "colors = c(\"green\",\"orange\",\"brown\")\n",
    "months <- c(\"Mar\",\"Apr\",\"May\",\"Jun\",\"Jul\")\n",
    "regions <- c(\"East\",\"West\",\"North\")\n",
    "Values <- matrix(c(2,9,3,11,9,4,8,7,3,12,5,2,8,10,11), nrow = 3, ncol = 5,\n",
    "byrow = TRUE)\n",
    "print(Values)\n",
    "barplot(Values, main = \"total revenue\", names.arg = months, xlab =\n",
    "\"month\", ylab = \"revenue\", col = colors)\n",
    "legend(\"topleft\", regions, cex = 0.75, fill = colors)\n",
    "setwd(\"e:/MCA/Unit III\")\n",
    "df<-read.csv(\"Combined.csv\")\n",
    "print(df)\n",
    "df1=df[\"SALARY\"]\n",
    "print(df1)\n",
    "#barplot(df1)\n",
    "v<-df1[,]\n",
    "print(v)\n",
    "barplot(v)\n",
    "dfname1<-df[\"Name\"]\n",
    "names<-dfname1[,]\n",
    "print(names)\n",
    "barplot(v,names.arg=names,xlab=\"salary\",ylab=\"in Rs\",main=\"Salary\n",
    "Chart\",col=\"red\",border=\"blue\")"
   ]
  },
  {
   "cell_type": "markdown",
   "metadata": {},
   "source": [
    "b) Box Plot"
   ]
  },
  {
   "cell_type": "code",
   "execution_count": null,
   "metadata": {},
   "outputs": [],
   "source": [
    "setwd(\"e:/MCA/Unit III\")\n",
    "df<-read.csv(\"Combined.csv\")\n",
    "print(df)\n",
    "v<-df[,c(\"SALARY\",\"Basic\")]\n",
    "print(v)\n",
    "boxplot(SALARY~Basic,data=v,xlab=\"Basic\",ylab=\"Salary\", main=\"Salary\n",
    "Chart\")\n",
    "df<-read.csv(\"guna1.csv\")\n",
    "print(df)\n",
    "v<-df[,c(\"Apptitude\",\"gunas\")]\n",
    "print(v)\n",
    "boxplot(Apptitude~gunas,data=v,xlab=\"Guans\",ylab=\"Apptitude\",\n",
    "main=\"Gunas chart\")\n",
    "v<-df[,c(\"Apptitude\",\"Attitude\")]\n",
    "print(v)\n",
    "boxplot(Apptitude~Attitude,data=v,xlab=\"Attitude\",ylab=\"Apptitude\",\n",
    "main=\"Gunas chart\")"
   ]
  },
  {
   "cell_type": "markdown",
   "metadata": {},
   "source": [
    "c) Pie Chart"
   ]
  },
  {
   "cell_type": "code",
   "execution_count": null,
   "metadata": {},
   "outputs": [],
   "source": [
    "x <- c(21, 62, 10, 53,76)\n",
    "21/222*360\n",
    "34.05+100.54+16.21+85.95+123.24\n",
    "labels <- c(\"London\", \"New York\", \"Singapore\", \"Mumbai\",\"chennai\")\n",
    "pie(x,labels)\n",
    "pie(x, labels, main = \"City pie chart\", col = rainbow(length(x)))\n",
    "x <- c(21, 62, 10, 53,76)\n",
    "labels <- c(\"London\",\"New York\",\"Singapore\",\"Mumbai\",\"Chennai\")\n",
    "piepercent<- round(100*x/sum(x), 1)\n",
    "pie(x, labels = piepercent, main = \"City pie chart\",col = rainbow(length(x)))\n",
    "legend(\"topleft\", c(\"London\",\"New\n",
    "York\",\"Singapore\",\"Mumbai\",\"Chennai\"), cex = 0.7,\n",
    "fill = rainbow(length(x)))\n",
    "legend(\"bottomright\",labels,cex=1.2,fill=rainbow(length(x)))\n",
    "library(plotrix)\n",
    "setwd(\"E:/MCA/unit III\")\n",
    "x <- c(21, 62, 10,53,76)\n",
    "lbl <- c(\"London\",\"New York\",\"Singapore\",\"Mumbai\",\"Chennai\")\n",
    "pie3D(x,labels = lbl,explode = 0.1, main = \"Pie Chart of Countries \")\n",
    "pie3D(x,labels=lbl,explode = 0.1, main = \"Pie Chart of Countries \",)\n",
    "legend(\"topright\", c(\"London\",\"New\n",
    "York\",\"Singapore\",\"Mumbai\",\"Chennai\"), cex =0.6,\n",
    "fill = rainbow(length(x)))\n",
    "dev.off()\n",
    "x <- c(21, 62, 10, 53,76)\n",
    "labels <- c(\"London\",\"New York\",\"Singapore\",\"Mumbai\",\"Chennai\")\n",
    "piepercent<- round(100*x/sum(x), 1)\n",
    "pie3D(x, labels = piepercent, main = \"City pie chart\",col =\n",
    "rainbow(length(x)))\n",
    "legend(\"topright\", c(\"London\",\"New\n",
    "York\",\"Singapore\",\"Mumbai\",\"Chennai\"), cex = 0.7,\n",
    "fill = rainbow(length(x)))"
   ]
  },
  {
   "cell_type": "markdown",
   "metadata": {},
   "source": [
    "d) Histogram"
   ]
  },
  {
   "cell_type": "code",
   "execution_count": null,
   "metadata": {},
   "outputs": [],
   "source": []
  },
  {
   "cell_type": "markdown",
   "metadata": {},
   "source": [
    "e) Line Plot"
   ]
  },
  {
   "cell_type": "code",
   "execution_count": null,
   "metadata": {},
   "outputs": [],
   "source": [
    "v <- c(7,12,28,3,41)\n",
    "plot(v,type = \"o\")\n",
    "v <- c(7,12,28,3,41)\n",
    "plot(v,type = \"o\", col = \"red\", xlab = \"Month\", ylab = \"Rain fall\",\n",
    "main = \"Rain fall chart\")\n",
    "v <- c(7,12,28,3,41)\n",
    "t <- c(14,7,6,19,3)\n",
    "x<-c(15,7,8,18,5)\n",
    "plot(v,type = \"o\",col = \"red\", xlab = \"Month\", ylab = \"Rain fall\",\n",
    "main = \"Rain fall chart\")\n",
    "lines(t, type = \"o\", col = \"blue\")\n",
    "lines(x, type = \"o\", col = \"green\")"
   ]
  },
  {
   "cell_type": "markdown",
   "metadata": {},
   "source": [
    "21. Distributions\n",
    "a) Binomial Distribution"
   ]
  },
  {
   "cell_type": "code",
   "execution_count": null,
   "metadata": {},
   "outputs": [],
   "source": [
    "x<-4\n",
    "y4<-dbinom(x,4,0.5)\n",
    "print(y4)\n",
    "y=y0+y1+y2+y3+y4\n",
    "print(y)\n",
    "x<-4\n",
    "y<-pbinom(x,4,0.5)\n",
    "print(y)\n",
    "x<-seq(0,4,0.1)\n",
    "x<-4\n",
    "y<-pbinom(x,4,0.1)\n",
    "print(y)\n",
    "plot(x,y)\n",
    "x<-26\n",
    "y<-dbinom(x,51,0.5)\n",
    "print(y)\n",
    "x<-seq(26,51,0.5)\n",
    "y <- pbinom(x,51,0.5)\n",
    "print(x)\n",
    "plot(x,y)\n",
    "y<-1-pbinom(x,51,0.5)\n",
    "x<-seq(0,25,0.5)\n",
    "print(y)\n",
    "plot(x,y)\n",
    "x<-seq(0,25,0.5)\n",
    "y<-pbinom(x,25,0.5)\n",
    "plot(x,y)\n",
    "x <- seq(0,50,1)\n",
    "y <- dbinom(x,50,0.5)\n",
    "print(dbinom(0, size=12, prob=0.2) +\n",
    "+ dbinom(1, size=12, prob=0.2) +\n",
    "+ dbinom(2, size=12, prob=0.2) +\n",
    "+ dbinom(3, size=12, prob=0.2) +\n",
    "+ dbinom(4, size=12, prob=0.2))\n",
    "print(pbinom(4,12,0.2))"
   ]
  },
  {
   "cell_type": "markdown",
   "metadata": {},
   "source": [
    "b)Normal distribution"
   ]
  },
  {
   "cell_type": "code",
   "execution_count": null,
   "metadata": {},
   "outputs": [],
   "source": [
    "x <- seq(-10, 10, by = .1)\n",
    "y <- dnorm(x, mean = 2.5, sd = 0.5)\n",
    "plot(x,y)\n",
    "y1<-pnorm(x,mean=2.5,sd=0.5)\n",
    "plot(x,y1)\n",
    "y2<-qnorm(x,mean=2.5,sd=0.5)\n",
    "plot(x,y2)\n",
    "y3<-qnorm(x,mean(x),sd(x))\n",
    "plot(x,y3)\n",
    "#setwd(\"E:/MCA/unit III\")\n",
    "guna<-read.csv(\"guna1.csv\")\n",
    "head(guna)\n",
    "summary(guna)\n",
    "x<-guna$Attitude\n",
    "print(x)\n",
    "print(mean(guna$Attitude))\n",
    "print(sd(guna$Attitude))\n",
    "y<-dnorm(guna$Attitude,mean=mean(guna$Attitude),\n",
    "sd=sd(guna$Attitude))\n",
    "plot(x,y)\n",
    "y <- pnorm (guna$Attitude, mean=mean(guna$Attitude),\n",
    "sd=sd(guna$Attitude))\n",
    "plot(x,y)\n",
    "y <- qnorm (guna$Attitude, mean=mean(guna$Attitude),\n",
    "sd=sd(guna$Attitude))\n",
    "plot(x,y)\n",
    "x <- seq(-10,10,by = .2)\n",
    "y <- pnorm(x, mean = 2.5, sd = 2)\n",
    "plot(x,y)\n",
    "x <- seq(0, 1, by = 0.02)\n",
    "y <- qnorm(x, mean = 2, sd = 1)\n",
    "y<-qnorm(x,mean(x),sd(x))\n",
    "plot(x,y)\n",
    "y<-pnorm(x,mean=2,sd=1)\n",
    "plot(x,y)\n",
    "y<-dnorm(x,mean=2,sd=1)\n",
    "y<-dnorm(x,mean(x),sd(x))\n",
    "plot(x,y)\n",
    "y<-pnorm(x,mean(x),sd(x))\n",
    "plot(x,y)\n",
    "y<-qnorm(x,mean(x),sd(x))\n",
    "plot(x,y)\n",
    "x<-rnorm(50000)\n",
    "y<-dnorm(x,mean(x),sd(x))\n",
    "plot(x,y)\n",
    "hist(y, main = \"Normal DIstribution\")"
   ]
  },
  {
   "cell_type": "markdown",
   "metadata": {},
   "source": [
    "c)Continuous distribution"
   ]
  },
  {
   "cell_type": "code",
   "execution_count": null,
   "metadata": {},
   "outputs": [],
   "source": []
  },
  {
   "cell_type": "markdown",
   "metadata": {},
   "source": [
    "d)Exponential distribution"
   ]
  },
  {
   "cell_type": "code",
   "execution_count": null,
   "metadata": {},
   "outputs": [],
   "source": []
  },
  {
   "cell_type": "markdown",
   "metadata": {},
   "source": [
    "e) Chi-squared distribution"
   ]
  },
  {
   "cell_type": "code",
   "execution_count": null,
   "metadata": {},
   "outputs": [],
   "source": [
    "library(\"MASS\")\n",
    "print(str(Cars93))\n",
    "library(\"MASS\")\n",
    "car.data<-data.frame(Cars93$Manufacturer,Cars93$AirBags)\n",
    "print(car.data)\n",
    "car.data = table(Cars93$Manufacturer, Cars93$AirBags)\n",
    "print(car.data)\n",
    "print(chisq.test(car.data))"
   ]
  },
  {
   "cell_type": "markdown",
   "metadata": {},
   "source": [
    "22. Hierarchical Clustering"
   ]
  },
  {
   "cell_type": "code",
   "execution_count": null,
   "metadata": {},
   "outputs": [],
   "source": [
    "x = matrix(rnorm(30 * 3), ncol = 3)\n",
    "hc.complete = hclust(dist(x), method = \"complete\")\n",
    "hc.average = hclust(dist(x), method = \"average\")\n",
    "hc.single = hclust(dist(x), method = \"single\")\n",
    "# Set up the plotting area with 1 row and 3 columns\n",
    "par(mfrow = c(1, 3))\n",
    "# Plot dendrograms for different linkage methods\n",
    "plot(hc.complete, main = \"Complete Linkage\", xlab = \"\", sub = \"\", cex = 0.9)\n",
    "plot(hc.average, main = \"Average Linkage\", xlab = \"\", sub = \"\", cex = 0.9)\n",
    "plot(hc.single, main = \"Single Linkage\", xlab = \"\", sub = \"\", cex = 0.9)\n",
    "# Cut dendrograms to form clusters\n",
    "cutree(hc.complete, 2)\n",
    "cutree(hc.average, 2)\n",
    "cutree(hc.single, 2)\n",
    "cutree(hc.single, 4)\n",
    "# Scale the features\n",
    "xsc = scale(x)\n",
    "# Plot hierarchical clustering with scaled features\n",
    "plot(hclust(dist(xsc), method = \"complete\"), main = \"Hierarchical Clustering with\n",
    "Scaled Features\")\n",
    "# Create a distance matrix based on correlation and perform hierarchical clustering\n",
    "dd = as.dist(1 - cor(t(x)))\n",
    "plot(hclust(dd, method = \"complete\"), main = \"Complete Linkage with\n",
    "Correlation-Based Distance\", xlab = \"\", sub = \"\")"
   ]
  },
  {
   "cell_type": "markdown",
   "metadata": {},
   "source": [
    "23. K- Means clustering"
   ]
  },
  {
   "cell_type": "code",
   "execution_count": null,
   "metadata": {},
   "outputs": [],
   "source": [
    "set.seed(2)\n",
    "x=matrix(rnorm(50*2), ncol=2)\n",
    "x[1:25,1]=x[1:25,1]+3\n",
    "x[1:25,2]=x[1:25,2]-4\n",
    "km.out=kmeans(x,2,nstart=20)\n",
    "km.out$cluster\n",
    "plot(x, col=(km.out$cluster+1), main=\"K-Means Clustering Results with\n",
    "K=2\", xlab=\"\", ylab=\"\", pch=20, cex=2)\n",
    "set.seed(4)\n",
    "km.out=kmeans(x,3,nstart=20)\n",
    "km.out\n",
    "plot(x, col=(km.out$cluster+1), main=\"K-Means Clustering Results with\n",
    "K=3\", xlab=\"\", ylab=\"\", pch=20, cex=2)\n",
    "set.seed(4)\n",
    "km.out=kmeans(x,5,nstart=20)\n",
    "km.out\n",
    "plot(x, col=(km.out$cluster+1), main=\"K-Means Clustering Results with\n",
    "K=5\", xlab=\"\", ylab=\"\", pch=20, cex=2)"
   ]
  },
  {
   "cell_type": "markdown",
   "metadata": {},
   "source": [
    "24. Case study on Guna’s theory"
   ]
  },
  {
   "cell_type": "code",
   "execution_count": null,
   "metadata": {},
   "outputs": [],
   "source": [
    "data <- read.csv(\"guna1.csv\")\n",
    "# Comparison of Attitude and Apptitude\n",
    "attitude <- data$Attitude\n",
    "apptitude <- data$Apptitude\n",
    "# Calculate Mean and Standard Deviation\n",
    "mean_attitude <- mean(attitude)\n",
    "sd_attitude <- sd(attitude)\n",
    "cat(\"Attitude - Mean:\", mean_attitude, \"SD:\", sd_attitude, \"\\n\")\n",
    "cat(\"Apptitude - Mean:\", mean_apptitude, \"SD:\", sd_apptitude, \"\\n\")\n",
    "# Create a Scatter Plot\n",
    "plot(attitude, apptitude, main = \"Scatter Plot: Attitude vs. Apptitude\", xlab =\n",
    "\"Attitude\", ylab = \"Apptitude\", col = \"blue\")\n",
    "# Create a Boxplot for Attitude and Apptitude\n",
    "boxplot(attitude, apptitude, names = c(\"Attitude\", \"Apptitude\"), main =\n",
    "\"Boxplot: Attitude vs. Apptitude\", col = c(\"orange\", \"green\"))\n",
    "# Create a Histogram for Attitude and Apptitude\n",
    "par(mfrow = c(1, 2))\n",
    "hist(attitude, col = \"lightblue\", main = \"Histogram: Attitude\", xlab =\n",
    "\"Attitude\", ylab = \"Frequency\")\n",
    "hist(apptitude, col = \"lightgreen\", main = \"Histogram: Apptitude\", xlab =\n",
    "\"Apptitude\", ylab = \"Frequency\")\n",
    "par(mfrow = c(1, 1))\n",
    "# Correlation Matrix\n",
    "cor_matrix <- cor(data[, c(\"Attitude\", \"Apptitude\", \"Sattvic\", \"Rajasic\",\n",
    "\"Tamasic\")])\n",
    "print(\"Correlation Matrix:\")\n",
    "print(cor_matrix)\n",
    "# Hypothesis Testing (ANOVA) for Attitude and Apptitude based on Gunas\n",
    "anova_result <- aov(Attitude ~ Sattvic + Rajasic + Tamasic + Apptitude,\n",
    "data = data)\n",
    "print(\"ANOVA Result:\")\n",
    "print(anova_result)\n",
    "# Correlation Matrix\n",
    "cor_matrix <- cor(data[, c(\"Attitude\", \"Apptitude\", \"Sattvic\", \"Rajasic\",\n",
    "\"Tamasic\")])\n",
    "print(\"Correlation Matrix:\")\n",
    "print(cor_matrix)\n",
    "# Pairwise Scatter Plots\n",
    "pairs(data[, c(\"Attitude\", \"Apptitude\", \"Sattvic\", \"Rajasic\", \"Tamasic\")],\n",
    "main = \"Pairwise Scatter Plots\")\n",
    "# Create a Boxplot for Attitude based on Guna Types\n",
    "boxplot(Attitude ~ gunas, data = data, main = \"Boxplot: Attitude by Guna\n",
    "Types\", col = c(\"orange\", \"green\", \"blue\"))\n",
    "# Bar Plot for Apptitude by Guna Types\n",
    "barplot(data$Apptitude, beside = TRUE, names.arg = data$gunas, col =\n",
    "c(\"orange\", \"green\", \"blue\"), main = \"Bar Plot: Apptitude by Guna Types\",\n",
    "xlab = \"Guna Types\", ylab = \"Apptitude\")"
   ]
  },
  {
   "cell_type": "markdown",
   "metadata": {},
   "source": [
    "25. Analysis of Variance (ANOVA)"
   ]
  },
  {
   "cell_type": "code",
   "execution_count": null,
   "metadata": {},
   "outputs": [],
   "source": [
    "#Live Demo\n",
    "input <- mtcars[,c(\"am\",\"mpg\",\"hp\")]\n",
    "print(head(input))\n",
    "#Live Demo\n",
    "# Get the dataset.\n",
    "input <- mtcars\n",
    "# Create the regression model.\n",
    "result <- aov(mpg~hp*am,data = input)\n",
    "print(summary(result))\n",
    "#Live Demo\n",
    "# Get the dataset.\n",
    "input <- mtcars\n",
    "# Create the regression model.\n",
    "result <- aov(mpg~hp+am,data = input)\n",
    "print(summary(result))\n",
    "#Live Demo\n",
    "# Get the dataset.\n",
    "input <- mtcars\n",
    "# Create the regression models.\n",
    "result1 <- aov(mpg~hp*am,data = input)\n",
    "result2 <- aov(mpg~hp+am,data = input)\n",
    "# Compare the two models.\n",
    "print(anova(result1,result2))\n",
    "print(input)\n",
    "result1 <- aov(mpg~hp*cyl,data = input)\n",
    "result2 <- aov(mpg~hp+cyl,data = input)\n",
    "# Compare the two models.\n",
    "print(anova(result1,result2))"
   ]
  },
  {
   "cell_type": "markdown",
   "metadata": {},
   "source": [
    "27. Time Series analysis\n",
    "a). Moving Average:"
   ]
  },
  {
   "cell_type": "code",
   "execution_count": null,
   "metadata": {},
   "outputs": [],
   "source": [
    "library(TTR)\n",
    "x <- c(3,5,7,3,4,2,6,4,7,2,1,9, 1, 10, 1,12)\n",
    "y=x\n",
    "By <- diff(y) # y_i - B y_i\n",
    "print(By)\n",
    "B2y<-diff(y,2)\n",
    "B3y <- diff(y, 3) # y_i - B^3 y_i\n",
    "message(paste0(\"y is: \", paste(y, collapse = \",\"), \"\\n\",\n",
    "\"By is: \", paste(By, collapse = \",\"), \"\\n\",\n",
    "\"By2 is: \",paste(B2y, collapse = \",\"), \"\\n\",\n",
    "\"B3y is: \", paste(B3y, collapse = \",\")))\n",
    "get_autocor <- function(x, lag) {\n",
    "x.left <- x[1:(length(x) - lag)]\n",
    "x.right <- x[(1+lag):(length(x))]\n",
    "print(x.left)\n",
    "print(x.right)\n",
    "autocor <- cor(x.left, x.right)\n",
    "return(autocor)}\n",
    "get_autocor(y, 1)\n",
    "get_autocor(y, 2)\n",
    "get_autocor(y,3)\n",
    "get_autocor(y, 4)\n",
    "#Moving Average\n",
    "print(x)\n",
    "filter(x, rep(1/3,3))\n",
    "runMean(x,2)\n",
    "weatherdata <- read.table('daily-min-temperatures.csv',\n",
    "sep=\",\", header= TRUE)\n",
    "head(weatherdata)\n",
    "plot(weatherdata$Temp)\n",
    "plot(log(weatherdata$Temp))\n",
    "par(mfrow = c(1,2))\n",
    "acf(weatherdata$Temp)\n",
    "pacf(weatherdata$Temp)"
   ]
  },
  {
   "cell_type": "markdown",
   "metadata": {},
   "source": [
    "b). Auto Regression (AR):"
   ]
  },
  {
   "cell_type": "code",
   "execution_count": null,
   "metadata": {},
   "outputs": [],
   "source": []
  },
  {
   "cell_type": "markdown",
   "metadata": {},
   "source": [
    "c). ARIMA Model:"
   ]
  },
  {
   "cell_type": "code",
   "execution_count": null,
   "metadata": {},
   "outputs": [],
   "source": []
  },
  {
   "cell_type": "markdown",
   "metadata": {},
   "source": [
    "d). Time Series Analysis using Stock Data:"
   ]
  },
  {
   "cell_type": "code",
   "execution_count": null,
   "metadata": {},
   "outputs": [],
   "source": [
    "sp<-read.table('E:/MCA/Unit iv/stock_daily.csv', sep=\",\", header=\n",
    "TRUE)\n",
    "print(sp)\n",
    "sp_ts <- ts(sp, start=2016, frequency=365)\n",
    "print(sp_ts)\n",
    "plot.ts(sp_ts,col=10, main=\"Daily Stock Prices\", ylab=\"Price\")\n",
    "sp_linear<-log(sp_ts)\n",
    "plot.ts(sp_linear, main=\"Daily Stock Prices (log)\", ylab=\"Price\",\n",
    "col=4)\n",
    "par(mfrow = c(1,2))\n",
    "plot.ts(sp_ts,col=4, main=\"Daily Stock Prices\", ylab=\"Price\")\n",
    "plot.ts(sp_linear, main=\"Daily Stock Prices (log)\", ylab=\"Price\",\n",
    "col=4)\n",
    "sp_linear_diff <- diff(sp_linear)\n",
    "plot.ts(sp_linear_diff, main=\"Daily Stock Prices (log)\", ylab=\"Price\",\n",
    "col=4)\n",
    "par(mfrow = c(1,2))\n",
    "de_earnings_diff <- diff(johndeere_earnings,lag=4)\n",
    "plot.ts(johndeere_earnings, main=\"Earnings (Quarterly)\")\n",
    "plot.ts(de_earnings_diff, main=\"Earnings (Differenced, lag=4)\")\n",
    "par(mfrow = c(1,2))\n",
    "plot.ts(sp_ts,main=\"MSFT Stock Prices\",ylab=\"Prices\")\n",
    "sp_ts_lag1=diff(sp,1)\n",
    "plot(sp_ts,sp_ts_lag1,main=\"Scatterplot (lag=1)\")\n",
    "cor(sp_ts[-252],sp_ts[-1])\n",
    "abline(lm(sp_ts[-1] ~ sp_ts[-252]),col=4)\n",
    "acf(sp_ts, lag.max=10)\n",
    "cor(sp_ts[-(251:252)],sp_ts[-(1:2)])"
   ]
  },
  {
   "cell_type": "markdown",
   "metadata": {},
   "source": [
    "e). Time Series Analysis using Weather Temperature Data:"
   ]
  },
  {
   "cell_type": "code",
   "execution_count": null,
   "metadata": {},
   "outputs": [],
   "source": [
    "weatherdata <- read.table('E:/MCA/Unit iv/daily-min-temperatures.csv',\n",
    "sep=\",\", header= TRUE)\n",
    "head(weatherdata)\n",
    "plot.ts(weatherdata$Temp, main=\"Weather\", ylab=\"Temperature\")\n",
    "plot.ts(log(weatherdata$Temp),main=\"Weather\", ylab=\"Temperature\")\n",
    "temperature.timeseries <- ts(weatherdata$Temp)\n",
    "plot.ts(temperature.timeseries)\n",
    "datats=ts(weatherdata,start = c(2012,1),frequency = 12)\n",
    "plot(decompose(datats))\n",
    "msft_ar <- arima(temperature.timeseries, order = c(1, 2, 2))\n",
    "print(msft_ar)\n",
    "library(forecast)\n",
    "pred<-forecast(msft_ar,h=365)\n",
    "plot(pred)"
   ]
  },
  {
   "cell_type": "markdown",
   "metadata": {},
   "source": [
    "28.Decision trees on any dataset"
   ]
  },
  {
   "cell_type": "code",
   "execution_count": null,
   "metadata": {},
   "outputs": [],
   "source": [
    "install.packages(\"party\")\n",
    "library(party)\n",
    "print(head(readingSkills))\n",
    "print(readingSkills)\n",
    "library(party)\n",
    "input.dat <- readingSkills[c(1:150),]\n",
    "output.tree <- ctree(\n",
    "nativeSpeaker ~ age + shoeSize + score,\n",
    "data = input.dat)\n",
    "plot(output.tree)\n",
    "output.tree <- ctree(\n",
    "nativeSpeaker ~ age + score,\n",
    "data = input.dat)\n",
    "plot(output.tree)\n",
    "output.tree <- ctree(\n",
    "nativeSpeaker ~ shoeSize + score,\n",
    "data = input.dat)\n",
    "plot(output.tree)"
   ]
  },
  {
   "cell_type": "markdown",
   "metadata": {},
   "source": [
    "29. Random Forest using Titanic dataset"
   ]
  },
  {
   "cell_type": "code",
   "execution_count": null,
   "metadata": {},
   "outputs": [],
   "source": [
    "install.packages(\"randomForest\")\n",
    "library(party)\n",
    "print(head(readingSkills))\n",
    "library(randomForest)\n",
    "output.forest <- randomForest(nativeSpeaker ~ age + shoeSize + score,\n",
    "data = readingSkills)\n",
    "print(output.forest)\n",
    "plot(output.forest)\n",
    "print(importance(output.forest,type = 2))"
   ]
  },
  {
   "cell_type": "markdown",
   "metadata": {},
   "source": [
    "30.Survival analysis"
   ]
  },
  {
   "cell_type": "code",
   "execution_count": null,
   "metadata": {},
   "outputs": [],
   "source": [
    "install.packages(\"survival\")\n",
    "library(\"survival\")\n",
    "survfit(Surv(pbc$time,pbc$status == 2)~1)\n",
    "plot(survfit(Surv(pbc$time,pbc$status == 2)~1),xlab=\"Days\",ylab=\"Survival\n",
    "Probability\")\n",
    "library(survminer)\n",
    "ggsurvplot(\n",
    "fit = survfit(Surv(time, status) ~ 1, data = pbc),\n",
    "xlab = \"Days\",\n",
    "ylab = \"Overall survival probability\")\n",
    "head(lung)\n",
    "survfit(Surv(lung$time,lung$status == 2)~1)\n",
    "plot(survfit(Surv(lung$time,lung$status ==\n",
    "2)~1),xlab=\"Days\",ylab=\"Survival Probability\")"
   ]
  }
 ],
 "metadata": {
  "language_info": {
   "name": "python"
  }
 },
 "nbformat": 4,
 "nbformat_minor": 2
}
