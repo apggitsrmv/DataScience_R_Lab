{
 "cells": [
  {
   "cell_type": "code",
   "execution_count": null,
   "metadata": {},
   "outputs": [],
   "source": [
    "# Create a numeric vector\n",
    "data <- c(1, 2, 3, 4, 2, 3, 4, 5, 3, 2, 5)\n",
    "\n",
    "# Calculate mean\n",
    "sum <- 0\n",
    "for(i in data){\n",
    "  sum <- sum + i\n",
    "}\n",
    "mean_value <- sum / length(data)\n",
    "print(paste(\"Mean: \", mean_value))\n",
    "\n",
    "# Calculate median\n",
    "sorted_data <- sort(data)\n",
    "n <- length(sorted_data)\n",
    "if(n %% 2 == 1){\n",
    "  median_value <- sorted_data[(n+1)/2]\n",
    "} else {\n",
    "  median_value <- (sorted_data[n/2] + sorted_data[n/2 + 1]) / 2\n",
    "}\n",
    "print(paste(\"Median: \", median_value))\n",
    "\n",
    "# Calculate mode\n",
    "counts <- table(data)\n",
    "mode_value <- as.numeric(names(counts)[counts == max(counts)])\n",
    "print(paste(\"Mode: \", mode_value))\n",
    "\n",
    "# Calculate variance\n",
    "sum_sq_diff <- 0\n",
    "for(i in data){\n",
    "  sum_sq_diff <- sum_sq_diff + (i - mean_value)^2\n",
    "}\n",
    "variance_value <- sum_sq_diff / (length(data) - 1)\n",
    "\n",
    "# Calculate standard deviation\n",
    "std_dev_value <- sqrt(variance_value)\n",
    "print(paste(\"Standard Deviation: \", std_dev_value))\n"
   ]
  }
 ],
 "metadata": {
  "language_info": {
   "name": "python"
  }
 },
 "nbformat": 4,
 "nbformat_minor": 2
}
