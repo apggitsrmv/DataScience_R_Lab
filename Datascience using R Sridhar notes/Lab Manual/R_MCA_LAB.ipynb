{
 "cells": [
  {
   "cell_type": "code",
   "execution_count": null,
   "metadata": {
    "vscode": {
     "languageId": "r"
    }
   },
   "outputs": [],
   "source": [
    "# Find the 10001st prime number"
   ]
  },
  {
   "cell_type": "code",
   "execution_count": null,
   "metadata": {
    "vscode": {
     "languageId": "r"
    }
   },
   "outputs": [],
   "source": [
    "# Find the 10001st prime number\n",
    "\n",
    "max_num <- 999999\n",
    "nums <- 1:max_num\n",
    "nums[1] <- 0\n",
    "to_find <- 10001\n",
    "found<-0\n",
    "for(i in 2:floor(max_num/2)){\n",
    "  if(nums[i] != 0){\n",
    "    nums[seq.int(i*2,max_num,i)] <- 0\n",
    "    found <- found + 1\n",
    "    if(found == to_find){\n",
    "      print(i)\n",
    "      break\n",
    "    }\n",
    "  }\n",
    "}"
   ]
  },
  {
   "cell_type": "markdown",
   "metadata": {},
   "source": []
  },
  {
   "cell_type": "code",
   "execution_count": null,
   "metadata": {
    "vscode": {
     "languageId": "r"
    }
   },
   "outputs": [],
   "source": [
    "a<-c(\"Berlin\",\"Moscow\",\"Tokyo\",\"Nairobi\",\"Denver\");\n",
    "\n",
    "b<-c(\"Dubai\",\"Rio\",\"Oslo\",\"Helsinki\",\"lisbon\");\n",
    "\n",
    "c<-c(a,b);\n",
    "\n",
    "reverse_chars<- function(string)\n",
    "\n",
    "{\n",
    " \n",
    " string_split = strsplit(string, split = \"\")\n",
    "\n",
    "  rev_order = nchar(string):1\n",
    "\n",
    "  reversed_chars = string_split[[1]][rev_order]\n",
    "\n",
    "  paste(reversed_chars, collapse = \"\")\n",
    "\n",
    "} \n",
    "\n",
    "for (val in c)\n",
    "\n",
    "{\n",
    "\n",
    "  print(reverse_chars(val))\n",
    "\n",
    "}\n"
   ]
  },
  {
   "cell_type": "code",
   "execution_count": null,
   "metadata": {
    "vscode": {
     "languageId": "r"
    }
   },
   "outputs": [],
   "source": [
    "x <- c(12,7,3,4.2,18,2,54,-21,8,-5)\n",
    "result.mean<- mean(x)\n",
    "print(result.mean)\n",
    "median.result<- median(x)\n",
    "print(median.result)\n",
    "result <- getmode(x)\n",
    "print(result)\n"
   ]
  },
  {
   "cell_type": "markdown",
   "metadata": {},
   "source": [
    "Correlation"
   ]
  },
  {
   "cell_type": "code",
   "execution_count": null,
   "metadata": {
    "vscode": {
     "languageId": "r"
    }
   },
   "outputs": [],
   "source": [
    "x<-c(11, 35, 23, 12, 16, 18, 28, 32, 46, 39)\n",
    "y<-c(46, 35, 33, 14, 18, 39, 43, 11, 10, 23)\n",
    "sum (x*y)\n",
    "n<-sum(x*y)\n",
    "a<-sum(x)\n",
    "b<-sum(y)\n",
    "x1<-sqrt((10*sum(x*x))-a*a)\n",
    "y1<-sqrt((10*sum(y*y))-b*b)\n",
    "print(x1)\n",
    "print(y1)\n",
    "r<-(10*n-a*b)/(x1*y1)\n",
    "print(r)\n"
   ]
  },
  {
   "cell_type": "markdown",
   "metadata": {},
   "source": [
    "Linear Regreession"
   ]
  },
  {
   "cell_type": "code",
   "execution_count": null,
   "metadata": {
    "vscode": {
     "languageId": "r"
    }
   },
   "outputs": [],
   "source": [
    "input <- mtcars[,c(\"mpg\",\"disp\")]\n",
    "print(head(input))\n",
    "a<-lm(mpg~disp,data=input)\n",
    "print(a)\n",
    "plot(input$disp,input$mpg,col = \"blue\",main = \"Miles Per Gallon & Displacement Regression\",\n",
    "abline(lm(input$mpg~input$disp)),cex = 1.3,pch = 16,xlab = \"Displacement \",ylab = \"Miles Per Gallon\")\n"
   ]
  },
  {
   "cell_type": "markdown",
   "metadata": {},
   "source": [
    "Multiple Linear Regression"
   ]
  },
  {
   "cell_type": "code",
   "execution_count": null,
   "metadata": {
    "vscode": {
     "languageId": "r"
    }
   },
   "outputs": [],
   "source": [
    "input <- mtcars[,c(\"mpg\",\"disp\",\"hp\",\"wt\")]\n",
    "print(head(input))\n",
    "model <- lm(mpg~disp+hp+wt, data = input)\n",
    "print(model)\n",
    "cat(\"# # # # The Coefficient Values # # # \",\"\\n\")\n",
    "a <- coef(model)[1]\n",
    "print(a)\n",
    "Xdisp<- coef(model)[2]\n",
    "Xhp<- coef(model)[3]\n",
    "Xwt<- coef(model)[4]\n",
    "print(Xdisp)\n",
    "print(Xhp)\n",
    "print(Xwt)\n",
    "x1 = 221\n",
    "x2 = 102\n",
    "x3 = 2.91\n",
    "Y = 37.15+(-0.000937)*x1+(-0.0311)*x2+(-3.8008)*x3\n",
    "layout(matrix(c(1,2,3,4),2,2)) # optional 4 graphs/page\n",
    "plot(model)\n"
   ]
  },
  {
   "cell_type": "markdown",
   "metadata": {},
   "source": [
    "Poisson Regression"
   ]
  },
  {
   "cell_type": "code",
   "execution_count": null,
   "metadata": {
    "vscode": {
     "languageId": "r"
    }
   },
   "outputs": [],
   "source": [
    "input <- warpbreaks\n",
    "print(head(input))\n",
    "output <-glm(formula = breaks ~ wool+tension, data = warpbreaks,\n",
    "             family = poisson)\n",
    "print(output)\n"
   ]
  },
  {
   "cell_type": "code",
   "execution_count": null,
   "metadata": {
    "vscode": {
     "languageId": "r"
    }
   },
   "outputs": [],
   "source": [
    "H <- c(7,12,28,3,41)\n",
    "M <- c(\"Mar\",\"Apr\",\"May\",\"Jun\",\"Jul\")\n",
    "barplot(H,names.arg=M,xlab=\"Month\",ylab=\"Revenue\",col=\"blue\",main=\"Revenue chart\",border=\"red\")\n"
   ]
  },
  {
   "cell_type": "code",
   "execution_count": null,
   "metadata": {
    "vscode": {
     "languageId": "r"
    }
   },
   "outputs": [],
   "source": [
    "mtcars\n",
    "input <- mtcars[,c('mpg','cyl')]\n",
    "print(head(input))\n",
    "boxplot(mpg ~ cyl, data = mtcars, xlab = \"Number of Cylinders\",ylab = \"Miles Per Gallon\", main = \"Mileage Data\")\n"
   ]
  },
  {
   "cell_type": "code",
   "execution_count": null,
   "metadata": {
    "vscode": {
     "languageId": "r"
    }
   },
   "outputs": [],
   "source": [
    "x <- c(21, 62, 10, 53,76)\n",
    "labels <-  c(\"London\",\"NewYork\",\"Singapore\",\"Mumbai\",\"Chennai\")\n",
    "piepercent<- round(100*x/sum(x), 1)\n",
    "pie(x, labels = piepercent, main = \"City pie chart\",col = rainbow(length(x)))\n",
    "legend(\"topleft\", c(\"London\",\"NewYork\",\"Singapore\",\"Mumbai\",\"Chennai\"), cex = 0.5,\n",
    "fill = rainbow(length(x)))\n"
   ]
  },
  {
   "cell_type": "code",
   "execution_count": null,
   "metadata": {
    "vscode": {
     "languageId": "r"
    }
   },
   "outputs": [],
   "source": [
    "v <- c(9,13,21,8,36,22,12,41,31,33,19)\n",
    "hist(v,xlab = \"Weight\",col = \"green\",border = \"red\", xlim = c(0,40), ylim = c(0,5),\n",
    "     breaks = 5)\n"
   ]
  },
  {
   "cell_type": "code",
   "execution_count": null,
   "metadata": {
    "vscode": {
     "languageId": "r"
    }
   },
   "outputs": [],
   "source": [
    "v <- c(7,12,28,3,41)\n",
    "t <- c(14,7,6,19,3)\n",
    "plot(v,type = \"o\",col = \"red\", xlab = \"Month\", ylab = \"Rain fall\", \n",
    "     main = \"Rain fall chart\")\n",
    "lines(t, type = \"o\", col = \"blue\")\n"
   ]
  },
  {
   "cell_type": "code",
   "execution_count": null,
   "metadata": {
    "vscode": {
     "languageId": "r"
    }
   },
   "outputs": [],
   "source": [
    "install.packages(\"dplyr\")\n",
    "library(dplyr)\n",
    "head(mtcars)\n",
    "distance_mat<- dist(mtcars, method = 'euclidean')\n",
    "distance_mat\n",
    "set.seed(240) # Setting seed\n",
    "Hierar_cl<- hclust(distance_mat, method = \"average\")\n",
    "Hierar_cl\n",
    "# Plotting dendrogram\n",
    "plot(Hierar_cl)\n",
    "abline(h = 110, col = \"green\")\n",
    "# Cutting tree by no. of clusters\n",
    "fit <- cutree(Hierar_cl, k = 3 )\n",
    "fit\n",
    "table(fit)\n",
    "rect.hclust(Hierar_cl, k = 3, border = \"green\")\n",
    "\n"
   ]
  },
  {
   "cell_type": "code",
   "execution_count": null,
   "metadata": {
    "vscode": {
     "languageId": "r"
    }
   },
   "outputs": [],
   "source": [
    "guna<-read.csv(\"guna1.csv\")\n",
    " head(guna)\n",
    "barplot(table(guna$gunas),col=\"green\")\n",
    "xyplot(Apptitude ~ Attitude ,data=guna)\n",
    "Library(lattice)\n",
    "xyplot(Apptitude ~ Attitude | gunas,data=guna,layout=c(3,1))\n",
    "Library(ggplot2)\n",
    "qplot(Attitude,Apptitude,data=guna)\n",
    "boxplot(Attitude ~ Apptitude, guna,xlab=\"Attitude\",ylab=\"Apptitude\")\n",
    "#Base plot for annotation\n",
    "with(guna,plot(Attitude,Apptitude),main=\"Attitude Vs Apptitude\")\n",
    "with(subset(guna,gunas==\"Rajasic\"),points(Attitude,Apptitude,col=\"Blue\"))\n",
    " with(subset(guna,gunas==\"Sattvic\"),points(Attitude,Apptitude,col=\"Red\"))\n",
    " with(subset(guna,gunas==\"Tamasic\"),points(Attitude,Apptitude,col=\"Green\"))\n",
    "legend(\"bottomright\",pch=1,col=c(\"green\",\"blue\",\"red\"),legend=c(\"Tamasic\",\"Rajasic\",\"Sattvic\"))\n",
    "with(guna,plot(Attitude,Apptitude),main=\"Attitude Vs Apptitude\")\n",
    "model<-lm(Attitude ~ Apptitude,guna)\n",
    "abline(model,lwd=4)\n",
    "abline(model,lwd=2)\n",
    "\n",
    "library(lattice)\n",
    "xyplot(Attitude~Apptitude|Gender,data=guna,layout=c(3,1))\n",
    "xyplot(Attitude ~ Apptitude | gunas, guna,\n",
    "  group = Gender,\n",
    "       grid = TRUE,\n",
    "       scales = list(x = list(log = 10, equispaced.log = FALSE)))\n",
    "xyplot(Attitude ~ Apptitude | gunas, guna1,\n",
    "group = Gender, xlab=\"Attitude\", ylab=\"Apptitude\",\n",
    "pch=c(3,0), col=c(\"blue\", \"red\"), cex=0.5,\n",
    "main=\"Attitude vs Apptitude \",\n",
    "key=list(text=list(c(\"Female\", \"Male\")),\n",
    "points=list(pch=c(3,0), col=c(\"blue\", \"red\")), columns=2))\n",
    "#xyplot( Number + Letter + Verbal + Logical+Non.Verbal +analytical ~Attitude , groups = Gender , outer =TRUE , data =guna1 , auto.key = list ( columns =2) )\n",
    "pdf(file=\"myplot1.pdf\")\n",
    "with(guna1,plot(Attitude,Apptitude))\n",
    "title(main=\"Attitude Vs Apptitude\")\n",
    "dev.off()\n",
    "set.seed(1234)\n",
    "par(mar = c(0, 0, 0, 0))\n",
    "x <- rnorm(12, mean = rep(1:3, each = 4), sd = 0.2)\n",
    "y <- rnorm(12, mean = rep(c(1, 2, 1), each = 4), sd = 0.2)\n",
    "plot(x, y, col = \"blue\", pch = 19, cex = 2)\n",
    "text(x + 0.05, y + 0.05, labels = as.character(1:12))\n",
    "dataFrame<- data.frame(x = x, y = y)\n",
    "dist(dataFrame)\n",
    "dataFrame<- data.frame(x = x, y = y)\n",
    "distxy<- dist(dataFrame)\n",
    "hClustering<- hclust(distxy)\n",
    "plot(hClustering)\n"
   ]
  }
 ],
 "metadata": {
  "kernelspec": {
   "display_name": "R",
   "language": "R",
   "name": "ir"
  },
  "language_info": {
   "codemirror_mode": "r",
   "file_extension": ".r",
   "mimetype": "text/x-r-source",
   "name": "R",
   "pygments_lexer": "r",
   "version": "4.3.1"
  }
 },
 "nbformat": 4,
 "nbformat_minor": 2
}
