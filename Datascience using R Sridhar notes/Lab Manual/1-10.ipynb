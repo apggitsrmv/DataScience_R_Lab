{
 "cells": [
  {
   "cell_type": "markdown",
   "metadata": {},
   "source": [
    "1"
   ]
  },
  {
   "cell_type": "code",
   "execution_count": 2,
   "metadata": {
    "vscode": {
     "languageId": "r"
    }
   },
   "outputs": [
    {
     "name": "stdout",
     "output_type": "stream",
     "text": [
      "[1] 104743\n"
     ]
    }
   ],
   "source": [
    "# Find the 10001st prime number\n",
    "\n",
    "max_num <- 999999\n",
    "nums <- 1:max_num\n",
    "nums[1] <- 0\n",
    "to_find <- 10001\n",
    "found<-0\n",
    "for(i in 2:floor(max_num/2)){\n",
    "  if(nums[i] != 0){\n",
    "    nums[seq.int(i*2,max_num,i)] <- 0\n",
    "    found <- found + 1\n",
    "    if(found == to_find){\n",
    "      print(i)\n",
    "      break\n",
    "    }\n",
    "  }\n",
    "}"
   ]
  },
  {
   "cell_type": "markdown",
   "metadata": {},
   "source": [
    "2"
   ]
  },
  {
   "cell_type": "code",
   "execution_count": 1,
   "metadata": {
    "vscode": {
     "languageId": "r"
    }
   },
   "outputs": [
    {
     "name": "stdout",
     "output_type": "stream",
     "text": [
      "[1] 31626\n"
     ]
    }
   ],
   "source": [
    "# Find sum of all amicable numbers < 10000\n",
    "# Amicable pairs are numbers where d(a)=b, d(b)=a\n",
    "# d(n) = sum of all proper divisors\n",
    "\n",
    "d <- function(n){\n",
    "  poss <- 1:max(1,floor(n/2))\n",
    "  return(sum(poss[(n %% poss) == 0]))\n",
    "}\n",
    "\n",
    "is_pair <- function(n){\n",
    "  return( n == (d(d(n))) && n != d(n) )\n",
    "}\n",
    "\n",
    "max <- 10000\n",
    "nums <- 1:(max-1)\n",
    "total <- 0\n",
    "\n",
    "for(i in nums){\n",
    "  if(is_pair(i)){\n",
    "    total <- total + i\n",
    "  }\n",
    "}\n",
    "print(total)"
   ]
  },
  {
   "cell_type": "markdown",
   "metadata": {},
   "source": [
    "3"
   ]
  }
 ],
 "metadata": {
  "kernelspec": {
   "display_name": "R",
   "language": "R",
   "name": "ir"
  },
  "language_info": {
   "codemirror_mode": "r",
   "file_extension": ".r",
   "mimetype": "text/x-r-source",
   "name": "R",
   "pygments_lexer": "r",
   "version": "4.3.1"
  }
 },
 "nbformat": 4,
 "nbformat_minor": 2
}
